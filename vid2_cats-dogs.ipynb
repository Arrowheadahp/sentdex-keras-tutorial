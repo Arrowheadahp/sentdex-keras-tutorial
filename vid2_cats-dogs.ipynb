{
 "cells": [
  {
   "cell_type": "code",
   "execution_count": 1,
   "metadata": {},
   "outputs": [],
   "source": [
    "import cv2\n",
    "import numpy as np\n",
    "import matplotlib.pyplot as plt\n",
    "import os\n",
    "import random\n",
    "import pickle"
   ]
  },
  {
   "cell_type": "code",
   "execution_count": 2,
   "metadata": {},
   "outputs": [],
   "source": [
    "nude_path = 'E:\\More\\Images\\lesbain anal 1-6'\n",
    "others_PATHS = ['E:\\Memories\\Puja-2k16', 'E:\\Memories\\Puja-2k17', 'E:\\Memories\\Puja-2k18']"
   ]
  },
  {
   "cell_type": "code",
   "execution_count": 3,
   "metadata": {},
   "outputs": [],
   "source": [
    "def process(img_url):\n",
    "    img_array = cv2.imread(img_url)#, cv2.IMREAD_GRAYSCALE)\n",
    "    new_array = cv2.resize(img_array, (64, 64))\n",
    "    new_array = np.array(new_array)\n",
    "    new_array = new_array/255.0\n",
    "    return new_array"
   ]
  },
  {
   "cell_type": "code",
   "execution_count": 4,
   "metadata": {},
   "outputs": [],
   "source": [
    "NL = []\n",
    "\n",
    "for img_name in os.listdir(nude_path):\n",
    "    img_path = os.path.join(nude_path, img_name)\n",
    "    new_array = process(img_path)\n",
    "    NL.append([new_array, 0])\n",
    "    "
   ]
  },
  {
   "cell_type": "code",
   "execution_count": 5,
   "metadata": {},
   "outputs": [
    {
     "name": "stdout",
     "output_type": "stream",
     "text": [
      "E:\\Memories\\Puja-2k16\n",
      "E:\\Memories\\Puja-2k17\n",
      "E:\\Memories\\Puja-2k18\n"
     ]
    }
   ],
   "source": [
    "OL = []\n",
    "for op in others_PATHS:\n",
    "    for img_name in os.listdir(op):\n",
    "        if img_name[-4:] in ['.JPG', '.jpg']:\n",
    "            img_path = os.path.join(op, img_name)\n",
    "            new_array = process(img_path)\n",
    "            OL.append([new_array, 1])\n",
    "    print(op)"
   ]
  },
  {
   "cell_type": "code",
   "execution_count": 7,
   "metadata": {},
   "outputs": [
    {
     "name": "stdout",
     "output_type": "stream",
     "text": [
      "1949\n"
     ]
    }
   ],
   "source": [
    "training_data = NL + OL\n",
    "print (len(training_data))\n",
    "random.shuffle(training_data)"
   ]
  },
  {
   "cell_type": "code",
   "execution_count": 8,
   "metadata": {},
   "outputs": [],
   "source": [
    "X = []\n",
    "y = []\n",
    "for features, label in training_data:\n",
    "    X.append(features)\n",
    "    y.append(label)"
   ]
  },
  {
   "cell_type": "code",
   "execution_count": 12,
   "metadata": {},
   "outputs": [
    {
     "name": "stdout",
     "output_type": "stream",
     "text": [
      "[[[0.58431373 0.61176471 0.6       ]\n",
      "  [0.60392157 0.62352941 0.61568627]\n",
      "  [0.60392157 0.62745098 0.62352941]\n",
      "  ...\n",
      "  [0.72941176 0.6745098  0.61960784]\n",
      "  [0.67058824 0.6        0.53333333]\n",
      "  [0.6745098  0.61960784 0.54901961]]\n",
      "\n",
      " [[0.59607843 0.62352941 0.61176471]\n",
      "  [0.60392157 0.63137255 0.61960784]\n",
      "  [0.60392157 0.62745098 0.62352941]\n",
      "  ...\n",
      "  [0.47058824 0.50588235 0.5254902 ]\n",
      "  [0.48235294 0.49803922 0.51764706]\n",
      "  [0.67058824 0.62745098 0.57647059]]\n",
      "\n",
      " [[0.60392157 0.62352941 0.61568627]\n",
      "  [0.60784314 0.63529412 0.61568627]\n",
      "  [0.60784314 0.63137255 0.62745098]\n",
      "  ...\n",
      "  [0.49803922 0.50980392 0.54117647]\n",
      "  [0.47843137 0.49803922 0.50980392]\n",
      "  [0.68627451 0.62745098 0.58039216]]\n",
      "\n",
      " ...\n",
      "\n",
      " [[0.51372549 0.58431373 0.62745098]\n",
      "  [0.5254902  0.59215686 0.64313725]\n",
      "  [0.50196078 0.57647059 0.63529412]\n",
      "  ...\n",
      "  [0.5254902  0.57254902 0.58039216]\n",
      "  [0.45882353 0.50196078 0.52156863]\n",
      "  [0.54901961 0.56470588 0.58431373]]\n",
      "\n",
      " [[0.5254902  0.6        0.63137255]\n",
      "  [0.43137255 0.52941176 0.59215686]\n",
      "  [0.50588235 0.56862745 0.63529412]\n",
      "  ...\n",
      "  [0.5254902  0.56078431 0.58823529]\n",
      "  [0.56862745 0.58823529 0.6       ]\n",
      "  [0.54117647 0.57254902 0.57647059]]\n",
      "\n",
      " [[0.47843137 0.55686275 0.60784314]\n",
      "  [0.44705882 0.5372549  0.59607843]\n",
      "  [0.5372549  0.60784314 0.65098039]\n",
      "  ...\n",
      "  [0.42745098 0.44705882 0.45098039]\n",
      "  [0.43921569 0.45490196 0.4745098 ]\n",
      "  [0.54509804 0.57254902 0.55686275]]]\n"
     ]
    }
   ],
   "source": [
    "X = np.array(X).reshape(-1, 64, 64, 3)\n",
    "print (X[0])"
   ]
  },
  {
   "cell_type": "code",
   "execution_count": 13,
   "metadata": {},
   "outputs": [],
   "source": [
    "with open('Xrgb.pickle', 'wb') as Xf:\n",
    "    pickle.dump(X, Xf)\n",
    "with open('yrgb.pickle', 'wb') as yf:\n",
    "    pickle.dump(np.array(y), yf)\n"
   ]
  },
  {
   "cell_type": "code",
   "execution_count": null,
   "metadata": {},
   "outputs": [],
   "source": []
  }
 ],
 "metadata": {
  "kernelspec": {
   "display_name": "Python 3",
   "language": "python",
   "name": "python3"
  },
  "language_info": {
   "codemirror_mode": {
    "name": "ipython",
    "version": 3
   },
   "file_extension": ".py",
   "mimetype": "text/x-python",
   "name": "python",
   "nbconvert_exporter": "python",
   "pygments_lexer": "ipython3",
   "version": "3.7.4"
  }
 },
 "nbformat": 4,
 "nbformat_minor": 4
}
