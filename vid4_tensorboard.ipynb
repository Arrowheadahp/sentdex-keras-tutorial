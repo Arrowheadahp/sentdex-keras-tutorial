{
 "cells": [
  {
   "cell_type": "code",
   "execution_count": 1,
   "metadata": {},
   "outputs": [],
   "source": [
    "import tensorflow as tf\n",
    "from tensorflow.keras.models import Sequential\n",
    "from tensorflow.keras.layers import Dense, Dropout, Activation, Flatten, Conv2D, MaxPooling2D\n",
    "from tensorflow.keras.callbacks import TensorBoard\n",
    "\n",
    "import numpy as np\n",
    "\n",
    "import pickle\n",
    "import time"
   ]
  },
  {
   "cell_type": "code",
   "execution_count": 2,
   "metadata": {},
   "outputs": [],
   "source": [
    "X = pickle.load(open(\"Xrgb.pickle\", 'rb'))\n",
    "y = pickle.load(open('yrgb.pickle', 'rb'))"
   ]
  },
  {
   "cell_type": "code",
   "execution_count": 7,
   "metadata": {},
   "outputs": [],
   "source": [
    "name = f'RGB-NSFWvsCOM_{int(time.time())}'\n",
    "tensorboard = TensorBoard(log_dir = f'logs\\{name}')"
   ]
  },
  {
   "cell_type": "code",
   "execution_count": 8,
   "metadata": {},
   "outputs": [],
   "source": [
    "model = Sequential()\n",
    "\n",
    "model.add(Conv2D(64, (3,3), input_shape = X.shape[1:]))\n",
    "model.add(Activation('relu'))\n",
    "model.add(MaxPooling2D(pool_size=(2, 2)))\n",
    "\n",
    "model.add(Conv2D(64, (3,3)))\n",
    "model.add(Activation('relu'))\n",
    "model.add(MaxPooling2D(pool_size=(2, 2)))\n",
    "\n",
    "model.add(Flatten())\n",
    "\n",
    "\n",
    "'''model.add(Dense(64))\n",
    "model.add(Activation('relu'))\n",
    "'''\n",
    "model.add(Dense(1))\n",
    "model.add(Activation('sigmoid'))\n",
    "\n",
    "model.compile(loss = 'binary_crossentropy', \n",
    "              optimizer = 'adam', \n",
    "              metrics = ['accuracy']\n",
    "             )"
   ]
  },
  {
   "cell_type": "code",
   "execution_count": 9,
   "metadata": {},
   "outputs": [
    {
     "name": "stdout",
     "output_type": "stream",
     "text": [
      "Train on 1559 samples, validate on 390 samples\n",
      "Epoch 1/16\n",
      "1559/1559 [==============================] - 12s 8ms/sample - loss: 0.4209 - accuracy: 0.8024 - val_loss: 0.2828 - val_accuracy: 0.8667\n",
      "Epoch 2/16\n",
      "1559/1559 [==============================] - 11s 7ms/sample - loss: 0.2023 - accuracy: 0.9294 - val_loss: 0.2370 - val_accuracy: 0.9154\n",
      "Epoch 3/16\n",
      "1559/1559 [==============================] - 10s 7ms/sample - loss: 0.1653 - accuracy: 0.9378 - val_loss: 0.1449 - val_accuracy: 0.9513\n",
      "Epoch 4/16\n",
      "1559/1559 [==============================] - 11s 7ms/sample - loss: 0.1168 - accuracy: 0.9622 - val_loss: 0.1067 - val_accuracy: 0.9641\n",
      "Epoch 5/16\n",
      "1559/1559 [==============================] - 10s 7ms/sample - loss: 0.0949 - accuracy: 0.9692 - val_loss: 0.0804 - val_accuracy: 0.9718\n",
      "Epoch 6/16\n",
      "1559/1559 [==============================] - 10s 7ms/sample - loss: 0.1082 - accuracy: 0.9564 - val_loss: 0.0728 - val_accuracy: 0.9692\n",
      "Epoch 7/16\n",
      "1559/1559 [==============================] - 10s 7ms/sample - loss: 0.0639 - accuracy: 0.9743 - val_loss: 0.0713 - val_accuracy: 0.9718\n",
      "Epoch 8/16\n",
      "1559/1559 [==============================] - 10s 7ms/sample - loss: 0.0536 - accuracy: 0.9846 - val_loss: 0.0570 - val_accuracy: 0.9744\n",
      "Epoch 9/16\n",
      "1559/1559 [==============================] - 11s 7ms/sample - loss: 0.0687 - accuracy: 0.9743 - val_loss: 0.0949 - val_accuracy: 0.9564\n",
      "Epoch 10/16\n",
      "1559/1559 [==============================] - 11s 7ms/sample - loss: 0.0792 - accuracy: 0.9686 - val_loss: 0.1795 - val_accuracy: 0.9308\n",
      "Epoch 11/16\n",
      "1559/1559 [==============================] - 11s 7ms/sample - loss: 0.0593 - accuracy: 0.9808 - val_loss: 0.0797 - val_accuracy: 0.9718\n",
      "Epoch 12/16\n",
      "1559/1559 [==============================] - 10s 6ms/sample - loss: 0.0237 - accuracy: 0.9955 - val_loss: 0.0456 - val_accuracy: 0.9795\n",
      "Epoch 13/16\n",
      "1559/1559 [==============================] - 10s 7ms/sample - loss: 0.0319 - accuracy: 0.9904 - val_loss: 0.0375 - val_accuracy: 0.9872\n",
      "Epoch 14/16\n",
      "1559/1559 [==============================] - 10s 6ms/sample - loss: 0.0220 - accuracy: 0.9942 - val_loss: 0.0514 - val_accuracy: 0.9846\n",
      "Epoch 15/16\n",
      "1559/1559 [==============================] - 11s 7ms/sample - loss: 0.0164 - accuracy: 0.9949 - val_loss: 0.0614 - val_accuracy: 0.9795\n",
      "Epoch 16/16\n",
      "1559/1559 [==============================] - 11s 7ms/sample - loss: 0.0127 - accuracy: 0.9949 - val_loss: 0.0374 - val_accuracy: 0.9872\n"
     ]
    },
    {
     "data": {
      "text/plain": [
       "<tensorflow.python.keras.callbacks.History at 0x2b6e9b09ac8>"
      ]
     },
     "execution_count": 9,
     "metadata": {},
     "output_type": "execute_result"
    }
   ],
   "source": [
    "model.fit(X, y,\n",
    "          batch_size = 16, \n",
    "          validation_split = 0.2,   \n",
    "          epochs = 16,\n",
    "          callbacks = [tensorboard],\n",
    "         )"
   ]
  },
  {
   "cell_type": "code",
   "execution_count": 6,
   "metadata": {},
   "outputs": [],
   "source": [
    "#!tensorboard --logdir=logs/"
   ]
  },
  {
   "cell_type": "code",
   "execution_count": null,
   "metadata": {},
   "outputs": [],
   "source": []
  }
 ],
 "metadata": {
  "kernelspec": {
   "display_name": "Python 3",
   "language": "python",
   "name": "python3"
  },
  "language_info": {
   "codemirror_mode": {
    "name": "ipython",
    "version": 3
   },
   "file_extension": ".py",
   "mimetype": "text/x-python",
   "name": "python",
   "nbconvert_exporter": "python",
   "pygments_lexer": "ipython3",
   "version": "3.7.4"
  }
 },
 "nbformat": 4,
 "nbformat_minor": 4
}
