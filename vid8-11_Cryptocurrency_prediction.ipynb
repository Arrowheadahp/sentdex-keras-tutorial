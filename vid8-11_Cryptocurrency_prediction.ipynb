{
 "cells": [
  {
   "cell_type": "markdown",
   "metadata": {},
   "source": [
    "## vid8"
   ]
  },
  {
   "cell_type": "code",
   "execution_count": 1,
   "metadata": {},
   "outputs": [],
   "source": [
    "import tensorflow as tf\n",
    "import pandas as pd\n",
    "from tensorflow.keras.layers import *\n",
    "from tensorflow.keras.models import Sequential\n",
    "from tensorflow.keras.callbacks import TensorBoard, ModelCheckpoint\n",
    "\n",
    "import numpy as np\n",
    "import matplotlib.pyplot as plt\n",
    "from sklearn import preprocessing\n",
    "from collections import deque, Counter\n",
    "import random"
   ]
  },
  {
   "cell_type": "code",
   "execution_count": 2,
   "metadata": {},
   "outputs": [],
   "source": [
    "folder = 'crypto_data\\crypto_data'"
   ]
  },
  {
   "cell_type": "code",
   "execution_count": 3,
   "metadata": {},
   "outputs": [],
   "source": [
    "import os\n",
    "\n",
    "ratios = os.listdir(folder)"
   ]
  },
  {
   "cell_type": "code",
   "execution_count": 4,
   "metadata": {},
   "outputs": [],
   "source": [
    "DF = pd.DataFrame()\n",
    "\n",
    "names = ['time', 'low', 'high', 'open', 'close', 'volume']\n",
    "for r in ratios:\n",
    "    df = pd.read_csv(os.path.join(folder, r),\n",
    "                    names = names)\n",
    "    df.set_index('time', inplace = True)\n",
    "    df = df[['close', 'volume']]\n",
    "    df.rename(columns = {c:r[:4]+c for c in df.columns}, inplace = True)\n",
    "    if len(DF) == 0:\n",
    "        DF = df\n",
    "    else:\n",
    "        DF = DF.join(df)\n",
    "    #print (DF.head(), df.head())"
   ]
  },
  {
   "cell_type": "code",
   "execution_count": 5,
   "metadata": {},
   "outputs": [],
   "source": [
    "window = 60\n",
    "future_to_predict = 2\n",
    "ratio_to_predict = 'BTC'\n",
    "\n",
    "def classify(current, future):\n",
    "    return 1/(1+np.exp(-32 * (float(future)-float(current))))"
   ]
  },
  {
   "cell_type": "code",
   "execution_count": 6,
   "metadata": {},
   "outputs": [
    {
     "data": {
      "text/plain": [
       "Index(['BCH-close', 'BCH-volume', 'BTC-close', 'BTC-volume', 'ETH-close',\n",
       "       'ETH-volume', 'LTC-close', 'LTC-volume'],\n",
       "      dtype='object')"
      ]
     },
     "execution_count": 6,
     "metadata": {},
     "output_type": "execute_result"
    }
   ],
   "source": [
    "DF.columns"
   ]
  },
  {
   "cell_type": "code",
   "execution_count": 7,
   "metadata": {},
   "outputs": [],
   "source": [
    "TrainData = pd.DataFrame(DF)\n",
    "TrainData[ratio_to_predict+'-future'] = TrainData[ratio_to_predict+'-close'].shift(-future_to_predict)"
   ]
  },
  {
   "cell_type": "code",
   "execution_count": 8,
   "metadata": {},
   "outputs": [
    {
     "data": {
      "text/plain": [
       "Index(['BCH-close', 'BCH-volume', 'BTC-close', 'BTC-volume', 'ETH-close',\n",
       "       'ETH-volume', 'LTC-close', 'LTC-volume', 'LTC-future'],\n",
       "      dtype='object')"
      ]
     },
     "execution_count": 8,
     "metadata": {},
     "output_type": "execute_result"
    }
   ],
   "source": [
    "TrainData.columns"
   ]
  },
  {
   "cell_type": "code",
   "execution_count": 9,
   "metadata": {},
   "outputs": [
    {
     "data": {
      "text/plain": [
       "Index(['BCH-close', 'BCH-volume', 'BTC-close', 'BTC-volume', 'ETH-close',\n",
       "       'ETH-volume', 'LTC-close', 'LTC-volume', 'LTC-future'],\n",
       "      dtype='object')"
      ]
     },
     "execution_count": 9,
     "metadata": {},
     "output_type": "execute_result"
    }
   ],
   "source": [
    "DF.columns"
   ]
  },
  {
   "cell_type": "code",
   "execution_count": 10,
   "metadata": {},
   "outputs": [
    {
     "data": {
      "text/plain": [
       "False"
      ]
     },
     "execution_count": 10,
     "metadata": {},
     "output_type": "execute_result"
    }
   ],
   "source": [
    "DF is TrainData"
   ]
  },
  {
   "cell_type": "code",
   "execution_count": 11,
   "metadata": {},
   "outputs": [],
   "source": [
    "TrainData[ratio_to_predict+'-target'] = list(map(classify, \n",
    "                                            TrainData[ratio_to_predict+'-close'], \n",
    "                                            TrainData[ratio_to_predict+'-future']\n",
    "                                           ))"
   ]
  },
  {
   "cell_type": "code",
   "execution_count": 12,
   "metadata": {
    "scrolled": false
   },
   "outputs": [
    {
     "name": "stderr",
     "output_type": "stream",
     "text": [
      "c:\\users\\prasu\\desktop\\repositories\\sentdex_keras\\sent_keras\\lib\\site-packages\\numpy\\lib\\histograms.py:839: RuntimeWarning: invalid value encountered in greater_equal\n",
      "  keep = (tmp_a >= first_edge)\n",
      "c:\\users\\prasu\\desktop\\repositories\\sentdex_keras\\sent_keras\\lib\\site-packages\\numpy\\lib\\histograms.py:840: RuntimeWarning: invalid value encountered in less_equal\n",
      "  keep &= (tmp_a <= last_edge)\n"
     ]
    },
    {
     "data": {
      "image/png": "[encoded data removed]",
      "text/plain": [
       "<Figure size 432x288 with 1 Axes>"
      ]
     },
     "metadata": {
      "needs_background": "light"
     },
     "output_type": "display_data"
    }
   ],
   "source": [
    "plt.hist(TrainData[ratio_to_predict+'-target'], bins = 100)\n",
    "plt.show()"
   ]
  },
  {
   "cell_type": "code",
   "execution_count": 13,
   "metadata": {},
   "outputs": [
    {
     "data": {
      "text/html": [
       "<div>\n",
       "<style scoped>\n",
       "    .dataframe tbody tr th:only-of-type {\n",
       "        vertical-align: middle;\n",
       "    }\n",
       "\n",
       "    .dataframe tbody tr th {\n",
       "        vertical-align: top;\n",
       "    }\n",
       "\n",
       "    .dataframe thead th {\n",
       "        text-align: right;\n",
       "    }\n",
       "</style>\n",
       "<table border=\"1\" class=\"dataframe\">\n",
       "  <thead>\n",
       "    <tr style=\"text-align: right;\">\n",
       "      <th></th>\n",
       "      <th>BCH-close</th>\n",
       "      <th>BCH-volume</th>\n",
       "      <th>BTC-close</th>\n",
       "      <th>BTC-volume</th>\n",
       "      <th>ETH-close</th>\n",
       "      <th>ETH-volume</th>\n",
       "      <th>LTC-close</th>\n",
       "      <th>LTC-volume</th>\n",
       "      <th>LTC-future</th>\n",
       "      <th>LTC-target</th>\n",
       "    </tr>\n",
       "    <tr>\n",
       "      <th>time</th>\n",
       "      <th></th>\n",
       "      <th></th>\n",
       "      <th></th>\n",
       "      <th></th>\n",
       "      <th></th>\n",
       "      <th></th>\n",
       "      <th></th>\n",
       "      <th></th>\n",
       "      <th></th>\n",
       "      <th></th>\n",
       "    </tr>\n",
       "  </thead>\n",
       "  <tbody>\n",
       "    <tr>\n",
       "      <th>1528968660</th>\n",
       "      <td>871.719971</td>\n",
       "      <td>5.675361</td>\n",
       "      <td>6489.549805</td>\n",
       "      <td>0.587100</td>\n",
       "      <td>NaN</td>\n",
       "      <td>NaN</td>\n",
       "      <td>96.580002</td>\n",
       "      <td>9.647200</td>\n",
       "      <td>96.500000</td>\n",
       "      <td>0.071753</td>\n",
       "    </tr>\n",
       "    <tr>\n",
       "      <th>1528968720</th>\n",
       "      <td>870.859985</td>\n",
       "      <td>26.856577</td>\n",
       "      <td>6487.379883</td>\n",
       "      <td>7.706374</td>\n",
       "      <td>486.010010</td>\n",
       "      <td>26.019083</td>\n",
       "      <td>96.660004</td>\n",
       "      <td>314.387024</td>\n",
       "      <td>96.389999</td>\n",
       "      <td>0.000177</td>\n",
       "    </tr>\n",
       "    <tr>\n",
       "      <th>1528968780</th>\n",
       "      <td>870.099976</td>\n",
       "      <td>1.124300</td>\n",
       "      <td>6479.410156</td>\n",
       "      <td>3.088252</td>\n",
       "      <td>486.000000</td>\n",
       "      <td>8.449400</td>\n",
       "      <td>96.570000</td>\n",
       "      <td>77.129799</td>\n",
       "      <td>96.519997</td>\n",
       "      <td>0.167968</td>\n",
       "    </tr>\n",
       "    <tr>\n",
       "      <th>1528968840</th>\n",
       "      <td>870.789978</td>\n",
       "      <td>1.749862</td>\n",
       "      <td>6479.410156</td>\n",
       "      <td>1.404100</td>\n",
       "      <td>485.750000</td>\n",
       "      <td>26.994646</td>\n",
       "      <td>96.500000</td>\n",
       "      <td>7.216067</td>\n",
       "      <td>96.440002</td>\n",
       "      <td>0.127869</td>\n",
       "    </tr>\n",
       "    <tr>\n",
       "      <th>1528968900</th>\n",
       "      <td>870.000000</td>\n",
       "      <td>1.680500</td>\n",
       "      <td>6479.979980</td>\n",
       "      <td>0.753000</td>\n",
       "      <td>486.000000</td>\n",
       "      <td>77.355759</td>\n",
       "      <td>96.389999</td>\n",
       "      <td>524.539978</td>\n",
       "      <td>96.470001</td>\n",
       "      <td>0.928247</td>\n",
       "    </tr>\n",
       "    <tr>\n",
       "      <th>...</th>\n",
       "      <td>...</td>\n",
       "      <td>...</td>\n",
       "      <td>...</td>\n",
       "      <td>...</td>\n",
       "      <td>...</td>\n",
       "      <td>...</td>\n",
       "      <td>...</td>\n",
       "      <td>...</td>\n",
       "      <td>...</td>\n",
       "      <td>...</td>\n",
       "    </tr>\n",
       "    <tr>\n",
       "      <th>1535215020</th>\n",
       "      <td>531.479980</td>\n",
       "      <td>0.016868</td>\n",
       "      <td>6714.520020</td>\n",
       "      <td>1.002652</td>\n",
       "      <td>279.359985</td>\n",
       "      <td>8.790519</td>\n",
       "      <td>58.009998</td>\n",
       "      <td>7.301921</td>\n",
       "      <td>58.080002</td>\n",
       "      <td>0.903796</td>\n",
       "    </tr>\n",
       "    <tr>\n",
       "      <th>1535215080</th>\n",
       "      <td>531.469971</td>\n",
       "      <td>0.013854</td>\n",
       "      <td>6714.520020</td>\n",
       "      <td>1.021925</td>\n",
       "      <td>279.369995</td>\n",
       "      <td>1.311763</td>\n",
       "      <td>58.020000</td>\n",
       "      <td>23.802017</td>\n",
       "      <td>58.090000</td>\n",
       "      <td>0.903784</td>\n",
       "    </tr>\n",
       "    <tr>\n",
       "      <th>1535215140</th>\n",
       "      <td>531.479980</td>\n",
       "      <td>0.016900</td>\n",
       "      <td>6715.000000</td>\n",
       "      <td>3.645508</td>\n",
       "      <td>279.660004</td>\n",
       "      <td>11.752819</td>\n",
       "      <td>58.020000</td>\n",
       "      <td>6.953497</td>\n",
       "      <td>NaN</td>\n",
       "      <td>NaN</td>\n",
       "    </tr>\n",
       "    <tr>\n",
       "      <th>1535215200</th>\n",
       "      <td>531.479980</td>\n",
       "      <td>0.299520</td>\n",
       "      <td>6715.000000</td>\n",
       "      <td>0.513560</td>\n",
       "      <td>279.649994</td>\n",
       "      <td>8.351710</td>\n",
       "      <td>58.080002</td>\n",
       "      <td>202.403183</td>\n",
       "      <td>NaN</td>\n",
       "      <td>NaN</td>\n",
       "    </tr>\n",
       "    <tr>\n",
       "      <th>1535215260</th>\n",
       "      <td>531.630005</td>\n",
       "      <td>3.528913</td>\n",
       "      <td>NaN</td>\n",
       "      <td>NaN</td>\n",
       "      <td>279.649994</td>\n",
       "      <td>10.511729</td>\n",
       "      <td>58.090000</td>\n",
       "      <td>160.602554</td>\n",
       "      <td>NaN</td>\n",
       "      <td>NaN</td>\n",
       "    </tr>\n",
       "  </tbody>\n",
       "</table>\n",
       "<p>92225 rows × 10 columns</p>\n",
       "</div>"
      ],
      "text/plain": [
       "             BCH-close  BCH-volume    BTC-close  BTC-volume   ETH-close  \\\n",
       "time                                                                      \n",
       "1528968660  871.719971    5.675361  6489.549805    0.587100         NaN   \n",
       "1528968720  870.859985   26.856577  6487.379883    7.706374  486.010010   \n",
       "1528968780  870.099976    1.124300  6479.410156    3.088252  486.000000   \n",
       "1528968840  870.789978    1.749862  6479.410156    1.404100  485.750000   \n",
       "1528968900  870.000000    1.680500  6479.979980    0.753000  486.000000   \n",
       "...                ...         ...          ...         ...         ...   \n",
       "1535215020  531.479980    0.016868  6714.520020    1.002652  279.359985   \n",
       "1535215080  531.469971    0.013854  6714.520020    1.021925  279.369995   \n",
       "1535215140  531.479980    0.016900  6715.000000    3.645508  279.660004   \n",
       "1535215200  531.479980    0.299520  6715.000000    0.513560  279.649994   \n",
       "1535215260  531.630005    3.528913          NaN         NaN  279.649994   \n",
       "\n",
       "            ETH-volume  LTC-close  LTC-volume  LTC-future  LTC-target  \n",
       "time                                                                   \n",
       "1528968660         NaN  96.580002    9.647200   96.500000    0.071753  \n",
       "1528968720   26.019083  96.660004  314.387024   96.389999    0.000177  \n",
       "1528968780    8.449400  96.570000   77.129799   96.519997    0.167968  \n",
       "1528968840   26.994646  96.500000    7.216067   96.440002    0.127869  \n",
       "1528968900   77.355759  96.389999  524.539978   96.470001    0.928247  \n",
       "...                ...        ...         ...         ...         ...  \n",
       "1535215020    8.790519  58.009998    7.301921   58.080002    0.903796  \n",
       "1535215080    1.311763  58.020000   23.802017   58.090000    0.903784  \n",
       "1535215140   11.752819  58.020000    6.953497         NaN         NaN  \n",
       "1535215200    8.351710  58.080002  202.403183         NaN         NaN  \n",
       "1535215260   10.511729  58.090000  160.602554         NaN         NaN  \n",
       "\n",
       "[92225 rows x 10 columns]"
      ]
     },
     "execution_count": 13,
     "metadata": {},
     "output_type": "execute_result"
    }
   ],
   "source": [
    "TrainData"
   ]
  },
  {
   "cell_type": "markdown",
   "metadata": {},
   "source": [
    "## vid9"
   ]
  },
  {
   "cell_type": "code",
   "execution_count": 14,
   "metadata": {},
   "outputs": [
    {
     "data": {
      "text/plain": [
       "1534508880"
      ]
     },
     "execution_count": 14,
     "metadata": {},
     "output_type": "execute_result"
    }
   ],
   "source": [
    "times = sorted(TrainData.index.values)\n",
    "last10pct = times[-10000]\n",
    "last10pct"
   ]
  },
  {
   "cell_type": "code",
   "execution_count": 15,
   "metadata": {},
   "outputs": [
    {
     "data": {
      "text/html": [
       "<div>\n",
       "<style scoped>\n",
       "    .dataframe tbody tr th:only-of-type {\n",
       "        vertical-align: middle;\n",
       "    }\n",
       "\n",
       "    .dataframe tbody tr th {\n",
       "        vertical-align: top;\n",
       "    }\n",
       "\n",
       "    .dataframe thead th {\n",
       "        text-align: right;\n",
       "    }\n",
       "</style>\n",
       "<table border=\"1\" class=\"dataframe\">\n",
       "  <thead>\n",
       "    <tr style=\"text-align: right;\">\n",
       "      <th></th>\n",
       "      <th>BCH-close</th>\n",
       "      <th>BCH-volume</th>\n",
       "      <th>BTC-close</th>\n",
       "      <th>BTC-volume</th>\n",
       "      <th>ETH-close</th>\n",
       "      <th>ETH-volume</th>\n",
       "      <th>LTC-close</th>\n",
       "      <th>LTC-volume</th>\n",
       "      <th>LTC-future</th>\n",
       "      <th>LTC-target</th>\n",
       "    </tr>\n",
       "    <tr>\n",
       "      <th>time</th>\n",
       "      <th></th>\n",
       "      <th></th>\n",
       "      <th></th>\n",
       "      <th></th>\n",
       "      <th></th>\n",
       "      <th></th>\n",
       "      <th></th>\n",
       "      <th></th>\n",
       "      <th></th>\n",
       "      <th></th>\n",
       "    </tr>\n",
       "  </thead>\n",
       "  <tbody>\n",
       "    <tr>\n",
       "      <th>1534508940</th>\n",
       "      <td>541.239990</td>\n",
       "      <td>0.030900</td>\n",
       "      <td>6482.000000</td>\n",
       "      <td>5.250585</td>\n",
       "      <td>298.750000</td>\n",
       "      <td>121.627495</td>\n",
       "      <td>57.560001</td>\n",
       "      <td>150.602371</td>\n",
       "      <td>57.689999</td>\n",
       "      <td>0.984631</td>\n",
       "    </tr>\n",
       "    <tr>\n",
       "      <th>1534509000</th>\n",
       "      <td>541.239990</td>\n",
       "      <td>0.761750</td>\n",
       "      <td>6482.000000</td>\n",
       "      <td>1.564580</td>\n",
       "      <td>298.779999</td>\n",
       "      <td>31.323853</td>\n",
       "      <td>57.689999</td>\n",
       "      <td>7.479010</td>\n",
       "      <td>57.660000</td>\n",
       "      <td>0.276885</td>\n",
       "    </tr>\n",
       "    <tr>\n",
       "      <th>1534509060</th>\n",
       "      <td>539.369995</td>\n",
       "      <td>4.063433</td>\n",
       "      <td>6481.990234</td>\n",
       "      <td>6.853326</td>\n",
       "      <td>298.399994</td>\n",
       "      <td>36.877357</td>\n",
       "      <td>57.689999</td>\n",
       "      <td>96.732811</td>\n",
       "      <td>57.660000</td>\n",
       "      <td>0.276885</td>\n",
       "    </tr>\n",
       "    <tr>\n",
       "      <th>1534509120</th>\n",
       "      <td>540.090027</td>\n",
       "      <td>6.906406</td>\n",
       "      <td>6472.509766</td>\n",
       "      <td>1.270809</td>\n",
       "      <td>298.500000</td>\n",
       "      <td>21.568947</td>\n",
       "      <td>57.689999</td>\n",
       "      <td>127.277771</td>\n",
       "      <td>57.660000</td>\n",
       "      <td>0.276885</td>\n",
       "    </tr>\n",
       "    <tr>\n",
       "      <th>1534509180</th>\n",
       "      <td>540.840027</td>\n",
       "      <td>0.223063</td>\n",
       "      <td>6475.660156</td>\n",
       "      <td>1.982166</td>\n",
       "      <td>298.579987</td>\n",
       "      <td>12.215804</td>\n",
       "      <td>57.660000</td>\n",
       "      <td>19.849148</td>\n",
       "      <td>57.660000</td>\n",
       "      <td>0.500000</td>\n",
       "    </tr>\n",
       "    <tr>\n",
       "      <th>...</th>\n",
       "      <td>...</td>\n",
       "      <td>...</td>\n",
       "      <td>...</td>\n",
       "      <td>...</td>\n",
       "      <td>...</td>\n",
       "      <td>...</td>\n",
       "      <td>...</td>\n",
       "      <td>...</td>\n",
       "      <td>...</td>\n",
       "      <td>...</td>\n",
       "    </tr>\n",
       "    <tr>\n",
       "      <th>1535215020</th>\n",
       "      <td>531.479980</td>\n",
       "      <td>0.016868</td>\n",
       "      <td>6714.520020</td>\n",
       "      <td>1.002652</td>\n",
       "      <td>279.359985</td>\n",
       "      <td>8.790519</td>\n",
       "      <td>58.009998</td>\n",
       "      <td>7.301921</td>\n",
       "      <td>58.080002</td>\n",
       "      <td>0.903796</td>\n",
       "    </tr>\n",
       "    <tr>\n",
       "      <th>1535215080</th>\n",
       "      <td>531.469971</td>\n",
       "      <td>0.013854</td>\n",
       "      <td>6714.520020</td>\n",
       "      <td>1.021925</td>\n",
       "      <td>279.369995</td>\n",
       "      <td>1.311763</td>\n",
       "      <td>58.020000</td>\n",
       "      <td>23.802017</td>\n",
       "      <td>58.090000</td>\n",
       "      <td>0.903784</td>\n",
       "    </tr>\n",
       "    <tr>\n",
       "      <th>1535215140</th>\n",
       "      <td>531.479980</td>\n",
       "      <td>0.016900</td>\n",
       "      <td>6715.000000</td>\n",
       "      <td>3.645508</td>\n",
       "      <td>279.660004</td>\n",
       "      <td>11.752819</td>\n",
       "      <td>58.020000</td>\n",
       "      <td>6.953497</td>\n",
       "      <td>NaN</td>\n",
       "      <td>NaN</td>\n",
       "    </tr>\n",
       "    <tr>\n",
       "      <th>1535215200</th>\n",
       "      <td>531.479980</td>\n",
       "      <td>0.299520</td>\n",
       "      <td>6715.000000</td>\n",
       "      <td>0.513560</td>\n",
       "      <td>279.649994</td>\n",
       "      <td>8.351710</td>\n",
       "      <td>58.080002</td>\n",
       "      <td>202.403183</td>\n",
       "      <td>NaN</td>\n",
       "      <td>NaN</td>\n",
       "    </tr>\n",
       "    <tr>\n",
       "      <th>1535215260</th>\n",
       "      <td>531.630005</td>\n",
       "      <td>3.528913</td>\n",
       "      <td>NaN</td>\n",
       "      <td>NaN</td>\n",
       "      <td>279.649994</td>\n",
       "      <td>10.511729</td>\n",
       "      <td>58.090000</td>\n",
       "      <td>160.602554</td>\n",
       "      <td>NaN</td>\n",
       "      <td>NaN</td>\n",
       "    </tr>\n",
       "  </tbody>\n",
       "</table>\n",
       "<p>9999 rows × 10 columns</p>\n",
       "</div>"
      ],
      "text/plain": [
       "             BCH-close  BCH-volume    BTC-close  BTC-volume   ETH-close  \\\n",
       "time                                                                      \n",
       "1534508940  541.239990    0.030900  6482.000000    5.250585  298.750000   \n",
       "1534509000  541.239990    0.761750  6482.000000    1.564580  298.779999   \n",
       "1534509060  539.369995    4.063433  6481.990234    6.853326  298.399994   \n",
       "1534509120  540.090027    6.906406  6472.509766    1.270809  298.500000   \n",
       "1534509180  540.840027    0.223063  6475.660156    1.982166  298.579987   \n",
       "...                ...         ...          ...         ...         ...   \n",
       "1535215020  531.479980    0.016868  6714.520020    1.002652  279.359985   \n",
       "1535215080  531.469971    0.013854  6714.520020    1.021925  279.369995   \n",
       "1535215140  531.479980    0.016900  6715.000000    3.645508  279.660004   \n",
       "1535215200  531.479980    0.299520  6715.000000    0.513560  279.649994   \n",
       "1535215260  531.630005    3.528913          NaN         NaN  279.649994   \n",
       "\n",
       "            ETH-volume  LTC-close  LTC-volume  LTC-future  LTC-target  \n",
       "time                                                                   \n",
       "1534508940  121.627495  57.560001  150.602371   57.689999    0.984631  \n",
       "1534509000   31.323853  57.689999    7.479010   57.660000    0.276885  \n",
       "1534509060   36.877357  57.689999   96.732811   57.660000    0.276885  \n",
       "1534509120   21.568947  57.689999  127.277771   57.660000    0.276885  \n",
       "1534509180   12.215804  57.660000   19.849148   57.660000    0.500000  \n",
       "...                ...        ...         ...         ...         ...  \n",
       "1535215020    8.790519  58.009998    7.301921   58.080002    0.903796  \n",
       "1535215080    1.311763  58.020000   23.802017   58.090000    0.903784  \n",
       "1535215140   11.752819  58.020000    6.953497         NaN         NaN  \n",
       "1535215200    8.351710  58.080002  202.403183         NaN         NaN  \n",
       "1535215260   10.511729  58.090000  160.602554         NaN         NaN  \n",
       "\n",
       "[9999 rows x 10 columns]"
      ]
     },
     "execution_count": 15,
     "metadata": {},
     "output_type": "execute_result"
    }
   ],
   "source": [
    "testdata = TrainData[TrainData.index>last10pct]\n",
    "testdata"
   ]
  },
  {
   "cell_type": "code",
   "execution_count": 16,
   "metadata": {},
   "outputs": [
    {
     "data": {
      "text/html": [
       "<div>\n",
       "<style scoped>\n",
       "    .dataframe tbody tr th:only-of-type {\n",
       "        vertical-align: middle;\n",
       "    }\n",
       "\n",
       "    .dataframe tbody tr th {\n",
       "        vertical-align: top;\n",
       "    }\n",
       "\n",
       "    .dataframe thead th {\n",
       "        text-align: right;\n",
       "    }\n",
       "</style>\n",
       "<table border=\"1\" class=\"dataframe\">\n",
       "  <thead>\n",
       "    <tr style=\"text-align: right;\">\n",
       "      <th></th>\n",
       "      <th>BCH-close</th>\n",
       "      <th>BCH-volume</th>\n",
       "      <th>BTC-close</th>\n",
       "      <th>BTC-volume</th>\n",
       "      <th>ETH-close</th>\n",
       "      <th>ETH-volume</th>\n",
       "      <th>LTC-close</th>\n",
       "      <th>LTC-volume</th>\n",
       "      <th>LTC-future</th>\n",
       "      <th>LTC-target</th>\n",
       "    </tr>\n",
       "    <tr>\n",
       "      <th>time</th>\n",
       "      <th></th>\n",
       "      <th></th>\n",
       "      <th></th>\n",
       "      <th></th>\n",
       "      <th></th>\n",
       "      <th></th>\n",
       "      <th></th>\n",
       "      <th></th>\n",
       "      <th></th>\n",
       "      <th></th>\n",
       "    </tr>\n",
       "  </thead>\n",
       "  <tbody>\n",
       "    <tr>\n",
       "      <th>1528968660</th>\n",
       "      <td>871.719971</td>\n",
       "      <td>5.675361</td>\n",
       "      <td>6489.549805</td>\n",
       "      <td>0.587100</td>\n",
       "      <td>NaN</td>\n",
       "      <td>NaN</td>\n",
       "      <td>96.580002</td>\n",
       "      <td>9.647200</td>\n",
       "      <td>96.500000</td>\n",
       "      <td>0.071753</td>\n",
       "    </tr>\n",
       "    <tr>\n",
       "      <th>1528968720</th>\n",
       "      <td>870.859985</td>\n",
       "      <td>26.856577</td>\n",
       "      <td>6487.379883</td>\n",
       "      <td>7.706374</td>\n",
       "      <td>486.010010</td>\n",
       "      <td>26.019083</td>\n",
       "      <td>96.660004</td>\n",
       "      <td>314.387024</td>\n",
       "      <td>96.389999</td>\n",
       "      <td>0.000177</td>\n",
       "    </tr>\n",
       "    <tr>\n",
       "      <th>1528968780</th>\n",
       "      <td>870.099976</td>\n",
       "      <td>1.124300</td>\n",
       "      <td>6479.410156</td>\n",
       "      <td>3.088252</td>\n",
       "      <td>486.000000</td>\n",
       "      <td>8.449400</td>\n",
       "      <td>96.570000</td>\n",
       "      <td>77.129799</td>\n",
       "      <td>96.519997</td>\n",
       "      <td>0.167968</td>\n",
       "    </tr>\n",
       "    <tr>\n",
       "      <th>1528968840</th>\n",
       "      <td>870.789978</td>\n",
       "      <td>1.749862</td>\n",
       "      <td>6479.410156</td>\n",
       "      <td>1.404100</td>\n",
       "      <td>485.750000</td>\n",
       "      <td>26.994646</td>\n",
       "      <td>96.500000</td>\n",
       "      <td>7.216067</td>\n",
       "      <td>96.440002</td>\n",
       "      <td>0.127869</td>\n",
       "    </tr>\n",
       "    <tr>\n",
       "      <th>1528968900</th>\n",
       "      <td>870.000000</td>\n",
       "      <td>1.680500</td>\n",
       "      <td>6479.979980</td>\n",
       "      <td>0.753000</td>\n",
       "      <td>486.000000</td>\n",
       "      <td>77.355759</td>\n",
       "      <td>96.389999</td>\n",
       "      <td>524.539978</td>\n",
       "      <td>96.470001</td>\n",
       "      <td>0.928247</td>\n",
       "    </tr>\n",
       "    <tr>\n",
       "      <th>...</th>\n",
       "      <td>...</td>\n",
       "      <td>...</td>\n",
       "      <td>...</td>\n",
       "      <td>...</td>\n",
       "      <td>...</td>\n",
       "      <td>...</td>\n",
       "      <td>...</td>\n",
       "      <td>...</td>\n",
       "      <td>...</td>\n",
       "      <td>...</td>\n",
       "    </tr>\n",
       "    <tr>\n",
       "      <th>1534508520</th>\n",
       "      <td>537.900024</td>\n",
       "      <td>0.061063</td>\n",
       "      <td>6457.669922</td>\n",
       "      <td>0.326103</td>\n",
       "      <td>297.670013</td>\n",
       "      <td>22.275454</td>\n",
       "      <td>57.430000</td>\n",
       "      <td>30.984541</td>\n",
       "      <td>57.430000</td>\n",
       "      <td>0.500000</td>\n",
       "    </tr>\n",
       "    <tr>\n",
       "      <th>1534508580</th>\n",
       "      <td>537.900024</td>\n",
       "      <td>1.022200</td>\n",
       "      <td>6460.399902</td>\n",
       "      <td>1.235895</td>\n",
       "      <td>297.690002</td>\n",
       "      <td>15.865081</td>\n",
       "      <td>57.400002</td>\n",
       "      <td>15.433328</td>\n",
       "      <td>57.610001</td>\n",
       "      <td>0.998795</td>\n",
       "    </tr>\n",
       "    <tr>\n",
       "      <th>1534508640</th>\n",
       "      <td>537.890015</td>\n",
       "      <td>1.170853</td>\n",
       "      <td>6460.399902</td>\n",
       "      <td>1.604535</td>\n",
       "      <td>297.809998</td>\n",
       "      <td>72.669014</td>\n",
       "      <td>57.369999</td>\n",
       "      <td>63.192352</td>\n",
       "      <td>57.639999</td>\n",
       "      <td>0.999823</td>\n",
       "    </tr>\n",
       "    <tr>\n",
       "      <th>1534508760</th>\n",
       "      <td>539.159973</td>\n",
       "      <td>6.426723</td>\n",
       "      <td>6470.250000</td>\n",
       "      <td>1.354971</td>\n",
       "      <td>298.000000</td>\n",
       "      <td>44.475979</td>\n",
       "      <td>57.430000</td>\n",
       "      <td>61.133152</td>\n",
       "      <td>57.560001</td>\n",
       "      <td>0.984633</td>\n",
       "    </tr>\n",
       "    <tr>\n",
       "      <th>1534508820</th>\n",
       "      <td>540.049988</td>\n",
       "      <td>1.173965</td>\n",
       "      <td>6479.490234</td>\n",
       "      <td>2.976064</td>\n",
       "      <td>298.619995</td>\n",
       "      <td>470.491394</td>\n",
       "      <td>57.610001</td>\n",
       "      <td>16.777588</td>\n",
       "      <td>57.689999</td>\n",
       "      <td>0.928238</td>\n",
       "    </tr>\n",
       "  </tbody>\n",
       "</table>\n",
       "<p>82225 rows × 10 columns</p>\n",
       "</div>"
      ],
      "text/plain": [
       "             BCH-close  BCH-volume    BTC-close  BTC-volume   ETH-close  \\\n",
       "time                                                                      \n",
       "1528968660  871.719971    5.675361  6489.549805    0.587100         NaN   \n",
       "1528968720  870.859985   26.856577  6487.379883    7.706374  486.010010   \n",
       "1528968780  870.099976    1.124300  6479.410156    3.088252  486.000000   \n",
       "1528968840  870.789978    1.749862  6479.410156    1.404100  485.750000   \n",
       "1528968900  870.000000    1.680500  6479.979980    0.753000  486.000000   \n",
       "...                ...         ...          ...         ...         ...   \n",
       "1534508520  537.900024    0.061063  6457.669922    0.326103  297.670013   \n",
       "1534508580  537.900024    1.022200  6460.399902    1.235895  297.690002   \n",
       "1534508640  537.890015    1.170853  6460.399902    1.604535  297.809998   \n",
       "1534508760  539.159973    6.426723  6470.250000    1.354971  298.000000   \n",
       "1534508820  540.049988    1.173965  6479.490234    2.976064  298.619995   \n",
       "\n",
       "            ETH-volume  LTC-close  LTC-volume  LTC-future  LTC-target  \n",
       "time                                                                   \n",
       "1528968660         NaN  96.580002    9.647200   96.500000    0.071753  \n",
       "1528968720   26.019083  96.660004  314.387024   96.389999    0.000177  \n",
       "1528968780    8.449400  96.570000   77.129799   96.519997    0.167968  \n",
       "1528968840   26.994646  96.500000    7.216067   96.440002    0.127869  \n",
       "1528968900   77.355759  96.389999  524.539978   96.470001    0.928247  \n",
       "...                ...        ...         ...         ...         ...  \n",
       "1534508520   22.275454  57.430000   30.984541   57.430000    0.500000  \n",
       "1534508580   15.865081  57.400002   15.433328   57.610001    0.998795  \n",
       "1534508640   72.669014  57.369999   63.192352   57.639999    0.999823  \n",
       "1534508760   44.475979  57.430000   61.133152   57.560001    0.984633  \n",
       "1534508820  470.491394  57.610001   16.777588   57.689999    0.928238  \n",
       "\n",
       "[82225 rows x 10 columns]"
      ]
     },
     "execution_count": 16,
     "metadata": {},
     "output_type": "execute_result"
    }
   ],
   "source": [
    "traindata = TrainData[TrainData.index<last10pct]\n",
    "traindata"
   ]
  },
  {
   "cell_type": "code",
   "execution_count": 17,
   "metadata": {},
   "outputs": [
    {
     "name": "stdout",
     "output_type": "stream",
     "text": [
      "BCH-close\n"
     ]
    },
    {
     "data": {
      "image/png": "[encoded data removed]",
      "text/plain": [
       "<Figure size 432x288 with 1 Axes>"
      ]
     },
     "metadata": {
      "needs_background": "light"
     },
     "output_type": "display_data"
    },
    {
     "name": "stdout",
     "output_type": "stream",
     "text": [
      "BCH-volume\n"
     ]
    },
    {
     "data": {
      "image/png": "[encoded data removed]",
      "text/plain": [
       "<Figure size 432x288 with 1 Axes>"
      ]
     },
     "metadata": {
      "needs_background": "light"
     },
     "output_type": "display_data"
    },
    {
     "name": "stderr",
     "output_type": "stream",
     "text": [
      "c:\\users\\prasu\\desktop\\repositories\\sentdex_keras\\sent_keras\\lib\\site-packages\\numpy\\lib\\histograms.py:839: RuntimeWarning: invalid value encountered in greater_equal\n",
      "  keep = (tmp_a >= first_edge)\n",
      "c:\\users\\prasu\\desktop\\repositories\\sentdex_keras\\sent_keras\\lib\\site-packages\\numpy\\lib\\histograms.py:840: RuntimeWarning: invalid value encountered in less_equal\n",
      "  keep &= (tmp_a <= last_edge)\n"
     ]
    },
    {
     "name": "stdout",
     "output_type": "stream",
     "text": [
      "BTC-close\n"
     ]
    },
    {
     "data": {
      "image/png": "[encoded data removed]",
      "text/plain": [
       "<Figure size 432x288 with 1 Axes>"
      ]
     },
     "metadata": {
      "needs_background": "light"
     },
     "output_type": "display_data"
    },
    {
     "name": "stdout",
     "output_type": "stream",
     "text": [
      "BTC-volume\n"
     ]
    },
    {
     "data": {
      "image/png": "[encoded data removed]",
      "text/plain": [
       "<Figure size 432x288 with 1 Axes>"
      ]
     },
     "metadata": {
      "needs_background": "light"
     },
     "output_type": "display_data"
    },
    {
     "name": "stdout",
     "output_type": "stream",
     "text": [
      "ETH-close\n"
     ]
    },
    {
     "data": {
      "image/png": "[encoded data removed]",
      "text/plain": [
       "<Figure size 432x288 with 1 Axes>"
      ]
     },
     "metadata": {
      "needs_background": "light"
     },
     "output_type": "display_data"
    },
    {
     "name": "stdout",
     "output_type": "stream",
     "text": [
      "ETH-volume\n"
     ]
    },
    {
     "data": {
      "image/png": "[encoded data removed]",
      "text/plain": [
       "<Figure size 432x288 with 1 Axes>"
      ]
     },
     "metadata": {
      "needs_background": "light"
     },
     "output_type": "display_data"
    },
    {
     "name": "stdout",
     "output_type": "stream",
     "text": [
      "LTC-close\n"
     ]
    },
    {
     "data": {
      "image/png": "[encoded data removed]",
      "text/plain": [
       "<Figure size 432x288 with 1 Axes>"
      ]
     },
     "metadata": {
      "needs_background": "light"
     },
     "output_type": "display_data"
    },
    {
     "name": "stdout",
     "output_type": "stream",
     "text": [
      "LTC-volume\n"
     ]
    },
    {
     "data": {
      "image/png": "[encoded data removed]",
      "text/plain": [
       "<Figure size 432x288 with 1 Axes>"
      ]
     },
     "metadata": {
      "needs_background": "light"
     },
     "output_type": "display_data"
    },
    {
     "name": "stdout",
     "output_type": "stream",
     "text": [
      "LTC-future\n"
     ]
    },
    {
     "data": {
      "image/png": "[encoded data removed]",
      "text/plain": [
       "<Figure size 432x288 with 1 Axes>"
      ]
     },
     "metadata": {
      "needs_background": "light"
     },
     "output_type": "display_data"
    },
    {
     "name": "stdout",
     "output_type": "stream",
     "text": [
      "LTC-target\n"
     ]
    },
    {
     "data": {
      "image/png": "[encoded data removed]",
      "text/plain": [
       "<Figure size 432x288 with 1 Axes>"
      ]
     },
     "metadata": {
      "needs_background": "light"
     },
     "output_type": "display_data"
    }
   ],
   "source": [
    "def show(df):\n",
    "    for col in df.columns:\n",
    "        plt.hist(df[col], bins = 100)\n",
    "        print (col)\n",
    "        plt.show()\n",
    "show(traindata)"
   ]
  },
  {
   "cell_type": "code",
   "execution_count": 18,
   "metadata": {},
   "outputs": [],
   "source": [
    "def preprocess_df(df):\n",
    "    df = df.drop(ratio_to_predict+'-future', 1)\n",
    "    for col in df.columns:\n",
    "        if col != ratio_to_predict+'-target':\n",
    "            df[col] = df[col].pct_change()\n",
    "            df.dropna(inplace = True)\n",
    "            df[col] = preprocessing.scale(df[col].values)\n",
    "    df.dropna(inplace = True)\n",
    "    \n",
    "    \n",
    "    \n",
    "    print (df.head())\n",
    "    return df"
   ]
  },
  {
   "cell_type": "code",
   "execution_count": 19,
   "metadata": {
    "scrolled": true
   },
   "outputs": [
    {
     "name": "stdout",
     "output_type": "stream",
     "text": [
      "            BCH-close  BCH-volume  BTC-close  BTC-volume  ETH-close  \\\n",
      "time                                                                  \n",
      "1528969140   0.011277   -0.006301  -0.002115   -0.075913   0.004717   \n",
      "1528969200   0.277388   -0.005982  -0.226416    0.003838   0.004717   \n",
      "1528969260   0.285877   -0.006285  -0.000456   -0.071186   0.021765   \n",
      "1528969320   0.491579   -0.005996   0.115036   -0.047538   0.004717   \n",
      "1528969380   0.568484   -0.006291   0.001286   -0.078948   0.004717   \n",
      "\n",
      "            ETH-volume  LTC-close  LTC-volume  LTC-target  \n",
      "time                                                       \n",
      "1528969140   -0.010769  -0.545610   -0.119072    0.500000  \n",
      "1528969200   -0.010339   0.004486   -0.120372    0.500000  \n",
      "1528969260   -0.008159   0.004486   -0.072007    0.831996  \n",
      "1528969320   -0.011064   0.004486   -0.109628    0.654725  \n",
      "1528969380   -0.008162   0.004486   -0.045875    0.500000  \n"
     ]
    }
   ],
   "source": [
    "traindata = preprocess_df(traindata)"
   ]
  },
  {
   "cell_type": "code",
   "execution_count": 20,
   "metadata": {},
   "outputs": [
    {
     "data": {
      "text/html": [
       "<div>\n",
       "<style scoped>\n",
       "    .dataframe tbody tr th:only-of-type {\n",
       "        vertical-align: middle;\n",
       "    }\n",
       "\n",
       "    .dataframe tbody tr th {\n",
       "        vertical-align: top;\n",
       "    }\n",
       "\n",
       "    .dataframe thead th {\n",
       "        text-align: right;\n",
       "    }\n",
       "</style>\n",
       "<table border=\"1\" class=\"dataframe\">\n",
       "  <thead>\n",
       "    <tr style=\"text-align: right;\">\n",
       "      <th></th>\n",
       "      <th>BCH-close</th>\n",
       "      <th>BCH-volume</th>\n",
       "      <th>BTC-close</th>\n",
       "      <th>BTC-volume</th>\n",
       "      <th>ETH-close</th>\n",
       "      <th>ETH-volume</th>\n",
       "      <th>LTC-close</th>\n",
       "      <th>LTC-volume</th>\n",
       "      <th>LTC-target</th>\n",
       "    </tr>\n",
       "    <tr>\n",
       "      <th>time</th>\n",
       "      <th></th>\n",
       "      <th></th>\n",
       "      <th></th>\n",
       "      <th></th>\n",
       "      <th></th>\n",
       "      <th></th>\n",
       "      <th></th>\n",
       "      <th></th>\n",
       "      <th></th>\n",
       "    </tr>\n",
       "  </thead>\n",
       "  <tbody>\n",
       "    <tr>\n",
       "      <th>1528969140</th>\n",
       "      <td>0.011277</td>\n",
       "      <td>-0.006301</td>\n",
       "      <td>-0.002115</td>\n",
       "      <td>-0.075913</td>\n",
       "      <td>0.004717</td>\n",
       "      <td>-0.010769</td>\n",
       "      <td>-0.545610</td>\n",
       "      <td>-0.119072</td>\n",
       "      <td>0.500000</td>\n",
       "    </tr>\n",
       "    <tr>\n",
       "      <th>1528969200</th>\n",
       "      <td>0.277388</td>\n",
       "      <td>-0.005982</td>\n",
       "      <td>-0.226416</td>\n",
       "      <td>0.003838</td>\n",
       "      <td>0.004717</td>\n",
       "      <td>-0.010339</td>\n",
       "      <td>0.004486</td>\n",
       "      <td>-0.120372</td>\n",
       "      <td>0.500000</td>\n",
       "    </tr>\n",
       "    <tr>\n",
       "      <th>1528969260</th>\n",
       "      <td>0.285877</td>\n",
       "      <td>-0.006285</td>\n",
       "      <td>-0.000456</td>\n",
       "      <td>-0.071186</td>\n",
       "      <td>0.021765</td>\n",
       "      <td>-0.008159</td>\n",
       "      <td>0.004486</td>\n",
       "      <td>-0.072007</td>\n",
       "      <td>0.831996</td>\n",
       "    </tr>\n",
       "    <tr>\n",
       "      <th>1528969320</th>\n",
       "      <td>0.491579</td>\n",
       "      <td>-0.005996</td>\n",
       "      <td>0.115036</td>\n",
       "      <td>-0.047538</td>\n",
       "      <td>0.004717</td>\n",
       "      <td>-0.011064</td>\n",
       "      <td>0.004486</td>\n",
       "      <td>-0.109628</td>\n",
       "      <td>0.654725</td>\n",
       "    </tr>\n",
       "    <tr>\n",
       "      <th>1528969380</th>\n",
       "      <td>0.568484</td>\n",
       "      <td>-0.006291</td>\n",
       "      <td>0.001286</td>\n",
       "      <td>-0.078948</td>\n",
       "      <td>0.004717</td>\n",
       "      <td>-0.008162</td>\n",
       "      <td>0.004486</td>\n",
       "      <td>-0.045875</td>\n",
       "      <td>0.500000</td>\n",
       "    </tr>\n",
       "    <tr>\n",
       "      <th>...</th>\n",
       "      <td>...</td>\n",
       "      <td>...</td>\n",
       "      <td>...</td>\n",
       "      <td>...</td>\n",
       "      <td>...</td>\n",
       "      <td>...</td>\n",
       "      <td>...</td>\n",
       "      <td>...</td>\n",
       "      <td>...</td>\n",
       "    </tr>\n",
       "    <tr>\n",
       "      <th>1534508520</th>\n",
       "      <td>0.058279</td>\n",
       "      <td>-0.006305</td>\n",
       "      <td>0.622102</td>\n",
       "      <td>-0.085340</td>\n",
       "      <td>0.505575</td>\n",
       "      <td>-0.010330</td>\n",
       "      <td>0.004486</td>\n",
       "      <td>-0.120309</td>\n",
       "      <td>0.500000</td>\n",
       "    </tr>\n",
       "    <tr>\n",
       "      <th>1534508580</th>\n",
       "      <td>0.002684</td>\n",
       "      <td>-0.004946</td>\n",
       "      <td>0.464929</td>\n",
       "      <td>0.008370</td>\n",
       "      <td>0.060297</td>\n",
       "      <td>-0.010316</td>\n",
       "      <td>-0.391511</td>\n",
       "      <td>-0.113874</td>\n",
       "      <td>0.998795</td>\n",
       "    </tr>\n",
       "    <tr>\n",
       "      <th>1534508640</th>\n",
       "      <td>-0.011213</td>\n",
       "      <td>-0.006216</td>\n",
       "      <td>-0.000456</td>\n",
       "      <td>-0.053861</td>\n",
       "      <td>0.338345</td>\n",
       "      <td>-0.005024</td>\n",
       "      <td>-0.391784</td>\n",
       "      <td>-0.038777</td>\n",
       "      <td>0.999823</td>\n",
       "    </tr>\n",
       "    <tr>\n",
       "      <th>1534508760</th>\n",
       "      <td>1.765962</td>\n",
       "      <td>-0.005862</td>\n",
       "      <td>1.677999</td>\n",
       "      <td>-0.065195</td>\n",
       "      <td>0.532771</td>\n",
       "      <td>-0.010453</td>\n",
       "      <td>0.797376</td>\n",
       "      <td>-0.104075</td>\n",
       "      <td>0.984633</td>\n",
       "    </tr>\n",
       "    <tr>\n",
       "      <th>1534508820</th>\n",
       "      <td>1.235518</td>\n",
       "      <td>-0.006295</td>\n",
       "      <td>1.571681</td>\n",
       "      <td>-0.031429</td>\n",
       "      <td>1.726710</td>\n",
       "      <td>0.003182</td>\n",
       "      <td>2.380644</td>\n",
       "      <td>-0.118544</td>\n",
       "      <td>0.928238</td>\n",
       "    </tr>\n",
       "  </tbody>\n",
       "</table>\n",
       "<p>75674 rows × 9 columns</p>\n",
       "</div>"
      ],
      "text/plain": [
       "            BCH-close  BCH-volume  BTC-close  BTC-volume  ETH-close  \\\n",
       "time                                                                  \n",
       "1528969140   0.011277   -0.006301  -0.002115   -0.075913   0.004717   \n",
       "1528969200   0.277388   -0.005982  -0.226416    0.003838   0.004717   \n",
       "1528969260   0.285877   -0.006285  -0.000456   -0.071186   0.021765   \n",
       "1528969320   0.491579   -0.005996   0.115036   -0.047538   0.004717   \n",
       "1528969380   0.568484   -0.006291   0.001286   -0.078948   0.004717   \n",
       "...               ...         ...        ...         ...        ...   \n",
       "1534508520   0.058279   -0.006305   0.622102   -0.085340   0.505575   \n",
       "1534508580   0.002684   -0.004946   0.464929    0.008370   0.060297   \n",
       "1534508640  -0.011213   -0.006216  -0.000456   -0.053861   0.338345   \n",
       "1534508760   1.765962   -0.005862   1.677999   -0.065195   0.532771   \n",
       "1534508820   1.235518   -0.006295   1.571681   -0.031429   1.726710   \n",
       "\n",
       "            ETH-volume  LTC-close  LTC-volume  LTC-target  \n",
       "time                                                       \n",
       "1528969140   -0.010769  -0.545610   -0.119072    0.500000  \n",
       "1528969200   -0.010339   0.004486   -0.120372    0.500000  \n",
       "1528969260   -0.008159   0.004486   -0.072007    0.831996  \n",
       "1528969320   -0.011064   0.004486   -0.109628    0.654725  \n",
       "1528969380   -0.008162   0.004486   -0.045875    0.500000  \n",
       "...                ...        ...         ...         ...  \n",
       "1534508520   -0.010330   0.004486   -0.120309    0.500000  \n",
       "1534508580   -0.010316  -0.391511   -0.113874    0.998795  \n",
       "1534508640   -0.005024  -0.391784   -0.038777    0.999823  \n",
       "1534508760   -0.010453   0.797376   -0.104075    0.984633  \n",
       "1534508820    0.003182   2.380644   -0.118544    0.928238  \n",
       "\n",
       "[75674 rows x 9 columns]"
      ]
     },
     "execution_count": 20,
     "metadata": {},
     "output_type": "execute_result"
    }
   ],
   "source": [
    "traindata"
   ]
  },
  {
   "cell_type": "code",
   "execution_count": 21,
   "metadata": {},
   "outputs": [],
   "source": [
    "df2 = pd.DataFrame(DF)\n",
    "def prepro(df):\n",
    "    df = df.drop(ratio_to_predict+'-future', 1)\n",
    "    for col in df2.columns:\n",
    "        if col[-5:] == 'close':\n",
    "            df[col] = list(map(classify, \n",
    "                                df[col], \n",
    "                                df[col].shift(-1)\n",
    "                               ))\n",
    "        elif col[-3:] == 'ume':\n",
    "            '''\n",
    "            df[col] = df[col].pct_change()\n",
    "            df.dropna(inplace = True)\n",
    "            df[col] = preprocessing.scale(df[col].values)\n",
    "            '''\n",
    "            \n",
    "            df = df.drop(col, 1)\n",
    "        df.dropna(inplace = True)\n",
    "    return df"
   ]
  },
  {
   "cell_type": "code",
   "execution_count": 22,
   "metadata": {},
   "outputs": [
    {
     "name": "stderr",
     "output_type": "stream",
     "text": [
      "c:\\users\\prasu\\desktop\\repositories\\sentdex_keras\\sent_keras\\lib\\site-packages\\ipykernel_launcher.py:6: RuntimeWarning: overflow encountered in exp\n",
      "  \n",
      "c:\\users\\prasu\\desktop\\repositories\\sentdex_keras\\sent_keras\\lib\\site-packages\\ipykernel_launcher.py:6: RuntimeWarning: overflow encountered in exp\n",
      "  \n"
     ]
    },
    {
     "data": {
      "text/html": [
       "<div>\n",
       "<style scoped>\n",
       "    .dataframe tbody tr th:only-of-type {\n",
       "        vertical-align: middle;\n",
       "    }\n",
       "\n",
       "    .dataframe tbody tr th {\n",
       "        vertical-align: top;\n",
       "    }\n",
       "\n",
       "    .dataframe thead th {\n",
       "        text-align: right;\n",
       "    }\n",
       "</style>\n",
       "<table border=\"1\" class=\"dataframe\">\n",
       "  <thead>\n",
       "    <tr style=\"text-align: right;\">\n",
       "      <th></th>\n",
       "      <th>BCH-close</th>\n",
       "      <th>BCH-volume</th>\n",
       "      <th>BTC-close</th>\n",
       "      <th>BTC-volume</th>\n",
       "      <th>ETH-close</th>\n",
       "      <th>ETH-volume</th>\n",
       "      <th>LTC-close</th>\n",
       "      <th>LTC-volume</th>\n",
       "      <th>LTC-target</th>\n",
       "    </tr>\n",
       "    <tr>\n",
       "      <th>time</th>\n",
       "      <th></th>\n",
       "      <th></th>\n",
       "      <th></th>\n",
       "      <th></th>\n",
       "      <th></th>\n",
       "      <th></th>\n",
       "      <th></th>\n",
       "      <th></th>\n",
       "      <th></th>\n",
       "    </tr>\n",
       "  </thead>\n",
       "  <tbody>\n",
       "    <tr>\n",
       "      <th>1528968960</th>\n",
       "      <td>3.131101e-08</td>\n",
       "      <td>-0.006104</td>\n",
       "      <td>2.334269e-39</td>\n",
       "      <td>-0.038238</td>\n",
       "      <td>0.420598</td>\n",
       "      <td>-0.012115</td>\n",
       "      <td>0.071768</td>\n",
       "      <td>-0.108964</td>\n",
       "      <td>0.021045</td>\n",
       "    </tr>\n",
       "    <tr>\n",
       "      <th>1528969020</th>\n",
       "      <td>1.000000e+00</td>\n",
       "      <td>-0.006145</td>\n",
       "      <td>1.000000e+00</td>\n",
       "      <td>-0.042131</td>\n",
       "      <td>0.500000</td>\n",
       "      <td>0.004279</td>\n",
       "      <td>0.723115</td>\n",
       "      <td>-0.012136</td>\n",
       "      <td>0.217550</td>\n",
       "    </tr>\n",
       "    <tr>\n",
       "      <th>1528969080</th>\n",
       "      <td>5.794022e-01</td>\n",
       "      <td>-0.003837</td>\n",
       "      <td>4.225017e-01</td>\n",
       "      <td>-0.069484</td>\n",
       "      <td>0.500000</td>\n",
       "      <td>-0.009548</td>\n",
       "      <td>0.096218</td>\n",
       "      <td>-0.077751</td>\n",
       "      <td>0.096218</td>\n",
       "    </tr>\n",
       "    <tr>\n",
       "      <th>1528969140</th>\n",
       "      <td>9.999643e-01</td>\n",
       "      <td>-0.006181</td>\n",
       "      <td>3.275992e-19</td>\n",
       "      <td>-0.079524</td>\n",
       "      <td>0.500000</td>\n",
       "      <td>-0.011704</td>\n",
       "      <td>0.500000</td>\n",
       "      <td>-0.105209</td>\n",
       "      <td>0.500000</td>\n",
       "    </tr>\n",
       "    <tr>\n",
       "      <th>1528969200</th>\n",
       "      <td>9.999741e-01</td>\n",
       "      <td>-0.005842</td>\n",
       "      <td>5.000000e-01</td>\n",
       "      <td>0.004734</td>\n",
       "      <td>0.579402</td>\n",
       "      <td>-0.011250</td>\n",
       "      <td>0.500000</td>\n",
       "      <td>-0.106287</td>\n",
       "      <td>0.500000</td>\n",
       "    </tr>\n",
       "    <tr>\n",
       "      <th>...</th>\n",
       "      <td>...</td>\n",
       "      <td>...</td>\n",
       "      <td>...</td>\n",
       "      <td>...</td>\n",
       "      <td>...</td>\n",
       "      <td>...</td>\n",
       "      <td>...</td>\n",
       "      <td>...</td>\n",
       "      <td>...</td>\n",
       "    </tr>\n",
       "    <tr>\n",
       "      <th>1535214660</th>\n",
       "      <td>4.206056e-01</td>\n",
       "      <td>-0.005627</td>\n",
       "      <td>9.999329e-01</td>\n",
       "      <td>-0.069225</td>\n",
       "      <td>0.998795</td>\n",
       "      <td>-0.009759</td>\n",
       "      <td>0.579309</td>\n",
       "      <td>-0.090367</td>\n",
       "      <td>0.579309</td>\n",
       "    </tr>\n",
       "    <tr>\n",
       "      <th>1535214720</th>\n",
       "      <td>5.793944e-01</td>\n",
       "      <td>-0.006188</td>\n",
       "      <td>9.998707e-01</td>\n",
       "      <td>-0.069721</td>\n",
       "      <td>0.500000</td>\n",
       "      <td>-0.009269</td>\n",
       "      <td>0.500000</td>\n",
       "      <td>-0.099067</td>\n",
       "      <td>0.579340</td>\n",
       "    </tr>\n",
       "    <tr>\n",
       "      <th>1535214780</th>\n",
       "      <td>5.000000e-01</td>\n",
       "      <td>-0.005731</td>\n",
       "      <td>1.000000e+00</td>\n",
       "      <td>-0.072120</td>\n",
       "      <td>0.420840</td>\n",
       "      <td>-0.011534</td>\n",
       "      <td>0.500000</td>\n",
       "      <td>-0.101531</td>\n",
       "      <td>0.579340</td>\n",
       "    </tr>\n",
       "    <tr>\n",
       "      <th>1535214840</th>\n",
       "      <td>4.206056e-01</td>\n",
       "      <td>-0.006152</td>\n",
       "      <td>1.000000e+00</td>\n",
       "      <td>-0.055486</td>\n",
       "      <td>0.579160</td>\n",
       "      <td>-0.011286</td>\n",
       "      <td>0.579340</td>\n",
       "      <td>0.002465</td>\n",
       "      <td>0.500000</td>\n",
       "    </tr>\n",
       "    <tr>\n",
       "      <th>1535214900</th>\n",
       "      <td>5.793944e-01</td>\n",
       "      <td>-0.002729</td>\n",
       "      <td>9.918123e-01</td>\n",
       "      <td>-0.042935</td>\n",
       "      <td>0.872128</td>\n",
       "      <td>-0.010318</td>\n",
       "      <td>0.500000</td>\n",
       "      <td>-0.109373</td>\n",
       "      <td>0.500000</td>\n",
       "    </tr>\n",
       "  </tbody>\n",
       "</table>\n",
       "<p>85359 rows × 9 columns</p>\n",
       "</div>"
      ],
      "text/plain": [
       "               BCH-close  BCH-volume     BTC-close  BTC-volume  ETH-close  \\\n",
       "time                                                                        \n",
       "1528968960  3.131101e-08   -0.006104  2.334269e-39   -0.038238   0.420598   \n",
       "1528969020  1.000000e+00   -0.006145  1.000000e+00   -0.042131   0.500000   \n",
       "1528969080  5.794022e-01   -0.003837  4.225017e-01   -0.069484   0.500000   \n",
       "1528969140  9.999643e-01   -0.006181  3.275992e-19   -0.079524   0.500000   \n",
       "1528969200  9.999741e-01   -0.005842  5.000000e-01    0.004734   0.579402   \n",
       "...                  ...         ...           ...         ...        ...   \n",
       "1535214660  4.206056e-01   -0.005627  9.999329e-01   -0.069225   0.998795   \n",
       "1535214720  5.793944e-01   -0.006188  9.998707e-01   -0.069721   0.500000   \n",
       "1535214780  5.000000e-01   -0.005731  1.000000e+00   -0.072120   0.420840   \n",
       "1535214840  4.206056e-01   -0.006152  1.000000e+00   -0.055486   0.579160   \n",
       "1535214900  5.793944e-01   -0.002729  9.918123e-01   -0.042935   0.872128   \n",
       "\n",
       "            ETH-volume  LTC-close  LTC-volume  LTC-target  \n",
       "time                                                       \n",
       "1528968960   -0.012115   0.071768   -0.108964    0.021045  \n",
       "1528969020    0.004279   0.723115   -0.012136    0.217550  \n",
       "1528969080   -0.009548   0.096218   -0.077751    0.096218  \n",
       "1528969140   -0.011704   0.500000   -0.105209    0.500000  \n",
       "1528969200   -0.011250   0.500000   -0.106287    0.500000  \n",
       "...                ...        ...         ...         ...  \n",
       "1535214660   -0.009759   0.579309   -0.090367    0.579309  \n",
       "1535214720   -0.009269   0.500000   -0.099067    0.579340  \n",
       "1535214780   -0.011534   0.500000   -0.101531    0.579340  \n",
       "1535214840   -0.011286   0.579340    0.002465    0.500000  \n",
       "1535214900   -0.010318   0.500000   -0.109373    0.500000  \n",
       "\n",
       "[85359 rows x 9 columns]"
      ]
     },
     "execution_count": 22,
     "metadata": {},
     "output_type": "execute_result"
    }
   ],
   "source": [
    "df2 = prepro(df2)\n",
    "df2"
   ]
  },
  {
   "cell_type": "code",
   "execution_count": 23,
   "metadata": {
    "scrolled": true
   },
   "outputs": [
    {
     "name": "stdout",
     "output_type": "stream",
     "text": [
      "BCH-close\n"
     ]
    },
    {
     "data": {
      "image/png": "[encoded data removed]",
      "text/plain": [
       "<Figure size 432x288 with 1 Axes>"
      ]
     },
     "metadata": {
      "needs_background": "light"
     },
     "output_type": "display_data"
    },
    {
     "name": "stdout",
     "output_type": "stream",
     "text": [
      "BCH-volume\n"
     ]
    },
    {
     "data": {
      "image/png": "[encoded data removed]",
      "text/plain": [
       "<Figure size 432x288 with 1 Axes>"
      ]
     },
     "metadata": {
      "needs_background": "light"
     },
     "output_type": "display_data"
    },
    {
     "name": "stdout",
     "output_type": "stream",
     "text": [
      "BTC-close\n"
     ]
    },
    {
     "data": {
      "image/png": "[encoded data removed]",
      "text/plain": [
       "<Figure size 432x288 with 1 Axes>"
      ]
     },
     "metadata": {
      "needs_background": "light"
     },
     "output_type": "display_data"
    },
    {
     "name": "stdout",
     "output_type": "stream",
     "text": [
      "BTC-volume\n"
     ]
    },
    {
     "data": {
      "image/png": "[encoded data removed]",
      "text/plain": [
       "<Figure size 432x288 with 1 Axes>"
      ]
     },
     "metadata": {
      "needs_background": "light"
     },
     "output_type": "display_data"
    },
    {
     "name": "stdout",
     "output_type": "stream",
     "text": [
      "ETH-close\n"
     ]
    },
    {
     "data": {
      "image/png": "[encoded data removed]",
      "text/plain": [
       "<Figure size 432x288 with 1 Axes>"
      ]
     },
     "metadata": {
      "needs_background": "light"
     },
     "output_type": "display_data"
    },
    {
     "name": "stdout",
     "output_type": "stream",
     "text": [
      "ETH-volume\n"
     ]
    },
    {
     "data": {
      "image/png": "[encoded data removed]",
      "text/plain": [
       "<Figure size 432x288 with 1 Axes>"
      ]
     },
     "metadata": {
      "needs_background": "light"
     },
     "output_type": "display_data"
    },
    {
     "name": "stdout",
     "output_type": "stream",
     "text": [
      "LTC-close\n"
     ]
    },
    {
     "data": {
      "image/png": "[encoded data removed]",
      "text/plain": [
       "<Figure size 432x288 with 1 Axes>"
      ]
     },
     "metadata": {
      "needs_background": "light"
     },
     "output_type": "display_data"
    },
    {
     "name": "stdout",
     "output_type": "stream",
     "text": [
      "LTC-volume\n"
     ]
    },
    {
     "data": {
      "image/png": "[encoded data removed]",
      "text/plain": [
       "<Figure size 432x288 with 1 Axes>"
      ]
     },
     "metadata": {
      "needs_background": "light"
     },
     "output_type": "display_data"
    },
    {
     "name": "stdout",
     "output_type": "stream",
     "text": [
      "LTC-target\n"
     ]
    },
    {
     "data": {
      "image/png": "[encoded data removed]",
      "text/plain": [
       "<Figure size 432x288 with 1 Axes>"
      ]
     },
     "metadata": {
      "needs_background": "light"
     },
     "output_type": "display_data"
    }
   ],
   "source": [
    "show(df2)"
   ]
  },
  {
   "cell_type": "code",
   "execution_count": 24,
   "metadata": {},
   "outputs": [
    {
     "name": "stdout",
     "output_type": "stream",
     "text": [
      "            BCH-close  BCH-volume  BTC-close  BTC-volume  ETH-close  \\\n",
      "time                                                                  \n",
      "1534509420   0.159983   -0.130099  -0.002854   -0.030228   0.003958   \n",
      "1534509480  -0.136078   -0.119885   0.339058   -0.079304   0.209506   \n",
      "1534509540   0.011936   -0.127189   0.314435   -0.241061   0.003958   \n",
      "1534509600   0.653408   -0.133078   0.101829   -0.260929   0.003958   \n",
      "1534509660  -0.012751   -0.117640   0.272531    0.534751  -0.018897   \n",
      "\n",
      "            ETH-volume  LTC-close  LTC-volume  LTC-target  \n",
      "time                                                       \n",
      "1534509420   -0.044905  -0.001158   -0.075867    0.991838  \n",
      "1534509480    0.063706   0.123311   -0.016814    0.997717  \n",
      "1534509540   -0.044679   1.741496   -0.083373    0.946850  \n",
      "1534509600   -0.045394  -0.001158   -0.031380    0.579316  \n",
      "1534509660   -0.045110   0.619698   -0.076310    0.579309  \n"
     ]
    }
   ],
   "source": [
    "testdata = preprocess_df(testdata)"
   ]
  },
  {
   "cell_type": "code",
   "execution_count": 25,
   "metadata": {},
   "outputs": [
    {
     "name": "stdout",
     "output_type": "stream",
     "text": [
      "BCH-close\n"
     ]
    },
    {
     "data": {
      "image/png": "[encoded data removed]",
      "text/plain": [
       "<Figure size 432x288 with 1 Axes>"
      ]
     },
     "metadata": {
      "needs_background": "light"
     },
     "output_type": "display_data"
    },
    {
     "name": "stdout",
     "output_type": "stream",
     "text": [
      "BCH-volume\n"
     ]
    },
    {
     "data": {
      "image/png": "[encoded data removed]",
      "text/plain": [
       "<Figure size 432x288 with 1 Axes>"
      ]
     },
     "metadata": {
      "needs_background": "light"
     },
     "output_type": "display_data"
    },
    {
     "name": "stdout",
     "output_type": "stream",
     "text": [
      "BTC-close\n"
     ]
    },
    {
     "data": {
      "image/png": "[encoded data removed]",
      "text/plain": [
       "<Figure size 432x288 with 1 Axes>"
      ]
     },
     "metadata": {
      "needs_background": "light"
     },
     "output_type": "display_data"
    },
    {
     "name": "stdout",
     "output_type": "stream",
     "text": [
      "BTC-volume\n"
     ]
    },
    {
     "data": {
      "image/png": "[encoded data removed]",
      "text/plain": [
       "<Figure size 432x288 with 1 Axes>"
      ]
     },
     "metadata": {
      "needs_background": "light"
     },
     "output_type": "display_data"
    },
    {
     "name": "stdout",
     "output_type": "stream",
     "text": [
      "ETH-close\n"
     ]
    },
    {
     "data": {
      "image/png": "[encoded data removed]",
      "text/plain": [
       "<Figure size 432x288 with 1 Axes>"
      ]
     },
     "metadata": {
      "needs_background": "light"
     },
     "output_type": "display_data"
    },
    {
     "name": "stdout",
     "output_type": "stream",
     "text": [
      "ETH-volume\n"
     ]
    },
    {
     "data": {
      "image/png": "[encoded data removed]",
      "text/plain": [
       "<Figure size 432x288 with 1 Axes>"
      ]
     },
     "metadata": {
      "needs_background": "light"
     },
     "output_type": "display_data"
    },
    {
     "name": "stdout",
     "output_type": "stream",
     "text": [
      "LTC-close\n"
     ]
    },
    {
     "data": {
      "image/png": "[encoded data removed]",
      "text/plain": [
       "<Figure size 432x288 with 1 Axes>"
      ]
     },
     "metadata": {
      "needs_background": "light"
     },
     "output_type": "display_data"
    },
    {
     "name": "stdout",
     "output_type": "stream",
     "text": [
      "LTC-volume\n"
     ]
    },
    {
     "data": {
      "image/png": "[encoded data removed]",
      "text/plain": [
       "<Figure size 432x288 with 1 Axes>"
      ]
     },
     "metadata": {
      "needs_background": "light"
     },
     "output_type": "display_data"
    },
    {
     "name": "stdout",
     "output_type": "stream",
     "text": [
      "LTC-target\n"
     ]
    },
    {
     "data": {
      "image/png": "[encoded data removed]",
      "text/plain": [
       "<Figure size 432x288 with 1 Axes>"
      ]
     },
     "metadata": {
      "needs_background": "light"
     },
     "output_type": "display_data"
    }
   ],
   "source": [
    "show(testdata)"
   ]
  },
  {
   "cell_type": "code",
   "execution_count": 26,
   "metadata": {},
   "outputs": [],
   "source": [
    "typ = [0,1,2,2]\n",
    "def pro2(df):\n",
    "    seq_data = []\n",
    "    prev_data = deque(maxlen = window)\n",
    "    for i in df.values:\n",
    "        prev_data.append([n for n in i[:-1]])\n",
    "        if len(prev_data) == window:\n",
    "            seq_data.append([np.array(prev_data), typ[int(i[-1]*3)]])\n",
    "    random.shuffle(seq_data)\n",
    "    return seq_data"
   ]
  },
  {
   "cell_type": "code",
   "execution_count": 27,
   "metadata": {},
   "outputs": [],
   "source": [
    "TL = pro2(traindata)\n",
    "testL = pro2(testdata)"
   ]
  },
  {
   "cell_type": "code",
   "execution_count": 28,
   "metadata": {},
   "outputs": [
    {
     "name": "stdout",
     "output_type": "stream",
     "text": [
      "<class 'list'>\n",
      "<class 'list'>\n",
      "<class 'numpy.ndarray'>\n",
      "<class 'numpy.ndarray'>\n",
      "<class 'numpy.float64'>\n"
     ]
    },
    {
     "data": {
      "text/plain": [
       "[75615, 2, 60, 8]"
      ]
     },
     "execution_count": 28,
     "metadata": {},
     "output_type": "execute_result"
    }
   ],
   "source": [
    "def dim(M):\n",
    "    print (str(type(M)))\n",
    "    if str(type(M)) in ['int', 'float', \"<class 'numpy.float64'>\"]:\n",
    "        return []\n",
    "    return [len(M)]+dim(M[0])\n",
    "dim(TL)"
   ]
  },
  {
   "cell_type": "code",
   "execution_count": 29,
   "metadata": {},
   "outputs": [],
   "source": [
    "Data2 = pro2(df2)"
   ]
  },
  {
   "cell_type": "code",
   "execution_count": 30,
   "metadata": {},
   "outputs": [
    {
     "name": "stdout",
     "output_type": "stream",
     "text": [
      "<class 'list'>\n",
      "<class 'list'>\n",
      "<class 'numpy.ndarray'>\n",
      "<class 'numpy.ndarray'>\n",
      "<class 'numpy.float64'>\n"
     ]
    },
    {
     "data": {
      "text/plain": [
       "[85300, 2, 60, 8]"
      ]
     },
     "execution_count": 30,
     "metadata": {},
     "output_type": "execute_result"
    }
   ],
   "source": [
    "dim(Data2)"
   ]
  },
  {
   "cell_type": "markdown",
   "metadata": {},
   "source": [
    "## vid10"
   ]
  },
  {
   "cell_type": "code",
   "execution_count": 31,
   "metadata": {},
   "outputs": [],
   "source": [
    "def unzip(A):\n",
    "    X = np.array([i[0] for i in A])\n",
    "    y = np.array([i[1] for i in A])\n",
    "    return (X, y)"
   ]
  },
  {
   "cell_type": "code",
   "execution_count": 46,
   "metadata": {},
   "outputs": [],
   "source": [
    "Xtl, Ytl = unzip(TL)\n",
    "X_testl, Y_testl = unzip(testL)"
   ]
  },
  {
   "cell_type": "code",
   "execution_count": 33,
   "metadata": {},
   "outputs": [],
   "source": [
    "X2, Y2 = unzip(Data2)"
   ]
  },
  {
   "cell_type": "code",
   "execution_count": 34,
   "metadata": {},
   "outputs": [
    {
     "data": {
      "text/plain": [
       "Counter({2: 26914, 1: 30888, 0: 27498})"
      ]
     },
     "execution_count": 34,
     "metadata": {},
     "output_type": "execute_result"
    }
   ],
   "source": [
    "Counter(Y2)"
   ]
  },
  {
   "cell_type": "markdown",
   "metadata": {},
   "source": [
    "## vid11"
   ]
  },
  {
   "cell_type": "code",
   "execution_count": 35,
   "metadata": {},
   "outputs": [],
   "source": [
    "#making the model\n",
    "import time\n",
    "\n",
    "epochs = 10\n",
    "batchsize = 64\n",
    "name = f'{ratio_to_predict}-{window}window-{future_to_predict}pred-{int(time.time())}'"
   ]
  },
  {
   "cell_type": "code",
   "execution_count": 49,
   "metadata": {},
   "outputs": [],
   "source": [
    "model = Sequential()\n",
    "\n",
    "model.add(LSTM(\n",
    "    128, \n",
    "    input_shape = (Xtl.shape[1:]),\n",
    "    return_sequences=True\n",
    "    ))\n",
    "model.add(Dropout(0.2))\n",
    "model.add(BatchNormalization())\n",
    "\n",
    "model.add(LSTM(\n",
    "    128, \n",
    "    input_shape = (Xtl.shape[1:]),\n",
    "    return_sequences=True\n",
    "    ))\n",
    "model.add(Dropout(0.2))\n",
    "model.add(BatchNormalization())\n",
    "\n",
    "model.add(LSTM(\n",
    "    128, \n",
    "    input_shape = (Xtl.shape[1:]),\n",
    "    #return_sequences=True\n",
    "    ))\n",
    "model.add(Dropout(0.2))\n",
    "model.add(BatchNormalization())\n",
    "\n",
    "model.add(Dense(32, activation = 'relu'))\n",
    "model.add(Dropout(0.2))\n",
    "\n",
    "model.add(Dense(3, activation = 'softmax'))\n",
    "\n",
    "opt = tf.keras.optimizers.Adam(lr = 0.001, decay = 1e-6)\n",
    "\n",
    "model.compile(loss = 'sparse_categorical_crossentropy',\n",
    "             optimizer = opt,\n",
    "             metrics = ['accuracy'])\n",
    "\n",
    "tensorboard = TensorBoard(log_dir = f'cryptologs\\\\{name}')\n",
    "\n",
    "#Modelcheckpoint shit\n",
    "\n",
    "\n"
   ]
  },
  {
   "cell_type": "code",
   "execution_count": 50,
   "metadata": {},
   "outputs": [],
   "source": [
    "model2 = tf.keras.models.clone_model(model)"
   ]
  },
  {
   "cell_type": "code",
   "execution_count": 51,
   "metadata": {},
   "outputs": [
    {
     "data": {
      "text/plain": [
       "False"
      ]
     },
     "execution_count": 51,
     "metadata": {},
     "output_type": "execute_result"
    }
   ],
   "source": [
    "model is model2"
   ]
  },
  {
   "cell_type": "code",
   "execution_count": null,
   "metadata": {},
   "outputs": [
    {
     "name": "stdout",
     "output_type": "stream",
     "text": [
      "Train on 75615 samples, validate on 9617 samples\n",
      "Epoch 1/10\n",
      "   64/75615 [..............................] - ETA: 2:10:01 - loss: 1.4377 - accuracy: 0.4375WARNING:tensorflow:Method (on_train_batch_end) is slow compared to the batch update (0.388545). Check your callbacks.\n",
      "  128/75615 [..............................] - ETA: 1:12:31 - loss: 1.3854 - accuracy: 0.4062WARNING:tensorflow:Method (on_train_batch_end) is slow compared to the batch update (0.230494). Check your callbacks.\n",
      "75615/75615 [==============================] - 293s 4ms/sample - loss: 1.1093 - accuracy: 0.3799 - val_loss: 1.0812 - val_accuracy: 0.4098\n",
      "Epoch 2/10\n",
      "75615/75615 [==============================] - 312s 4ms/sample - loss: 1.0648 - accuracy: 0.4255 - val_loss: 1.0520 - val_accuracy: 0.4456\n",
      "Epoch 3/10\n",
      "75615/75615 [==============================] - 312s 4ms/sample - loss: 1.0516 - accuracy: 0.4410 - val_loss: 1.1403 - val_accuracy: 0.3263\n",
      "Epoch 4/10\n",
      "75615/75615 [==============================] - 321s 4ms/sample - loss: 1.0449 - accuracy: 0.4501 - val_loss: 1.0545 - val_accuracy: 0.4431\n",
      "Epoch 5/10\n",
      "75615/75615 [==============================] - 317s 4ms/sample - loss: 1.0377 - accuracy: 0.4546 - val_loss: 1.0294 - val_accuracy: 0.4660\n",
      "Epoch 6/10\n",
      "75584/75615 [============================>.] - ETA: 0s - loss: 1.0352 - accuracy: 0.4589"
     ]
    }
   ],
   "source": [
    "history = model.fit(\n",
    "    Xtl, Ytl,\n",
    "    batch_size = batchsize,\n",
    "    epochs = epochs, \n",
    "    validation_data = (X_testl, Y_testl),\n",
    "    callbacks = [tensorboard]\n",
    ")"
   ]
  },
  {
   "cell_type": "code",
   "execution_count": null,
   "metadata": {},
   "outputs": [],
   "source": [
    "history2 = model2.fit(\n",
    "    X2, Y2,\n",
    "    batch_size = batchsize,\n",
    "    epochs = epochs, \n",
    "    validation_split = 0.2,\n",
    "    callbacks = [tensorboard]\n",
    ")"
   ]
  }
 ],
 "metadata": {
  "kernelspec": {
   "display_name": "Python 3",
   "language": "python",
   "name": "python3"
  },
  "language_info": {
   "codemirror_mode": {
    "name": "ipython",
    "version": 3
   },
   "file_extension": ".py",
   "mimetype": "text/x-python",
   "name": "python",
   "nbconvert_exporter": "python",
   "pygments_lexer": "ipython3",
   "version": "3.7.4"
  }
 },
 "nbformat": 4,
 "nbformat_minor": 4
}
