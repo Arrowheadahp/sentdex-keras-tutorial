{
 "cells": [
  {
   "cell_type": "code",
   "execution_count": 1,
   "metadata": {},
   "outputs": [],
   "source": [
    "import tensorflow as tf\n",
    "from tensorflow.keras.models import Sequential\n",
    "from tensorflow.keras.layers import Dense, Dropout, Activation, Flatten, Conv2D, MaxPooling2D\n",
    "import matplotlib.pyplot as plt\n",
    "import numpy as np\n",
    "\n",
    "import pickle"
   ]
  },
  {
   "cell_type": "code",
   "execution_count": 2,
   "metadata": {},
   "outputs": [],
   "source": [
    "X = pickle.load(open(\"Xrgb.pickle\", 'rb'))\n",
    "y = pickle.load(open('yrgb.pickle', 'rb'))"
   ]
  },
  {
   "cell_type": "code",
   "execution_count": 3,
   "metadata": {},
   "outputs": [],
   "source": [
    "model = Sequential()\n",
    "\n",
    "model.add(Conv2D(64, (3,3), input_shape = X.shape[1:]))\n",
    "model.add(Activation('relu'))\n",
    "model.add(MaxPooling2D(pool_size=(2, 2)))\n",
    "\n",
    "model.add(Conv2D(64, (3,3)))\n",
    "model.add(Activation('relu'))\n",
    "model.add(MaxPooling2D(pool_size=(2, 2)))\n",
    "\n",
    "model.add(Flatten())\n",
    "model.add(Dense(64))\n",
    "model.add(Activation('relu'))\n",
    "\n",
    "model.add(Dense(1))\n",
    "model.add(Activation('sigmoid'))\n",
    "\n",
    "model.compile(loss = 'binary_crossentropy', \n",
    "              optimizer = 'adam', \n",
    "              metrics = ['accuracy']\n",
    "             )"
   ]
  },
  {
   "cell_type": "code",
   "execution_count": 4,
   "metadata": {},
   "outputs": [
    {
     "name": "stdout",
     "output_type": "stream",
     "text": [
      "[[0.58431373 0.61176471 0.6       ]\n",
      " [0.60392157 0.62352941 0.61568627]\n",
      " [0.60392157 0.62745098 0.62352941]\n",
      " [0.61176471 0.63529412 0.63137255]\n",
      " [0.61568627 0.63921569 0.63529412]\n",
      " [0.63921569 0.65882353 0.6627451 ]\n",
      " [0.65882353 0.69019608 0.70196078]\n",
      " [0.75686275 0.77647059 0.77254902]\n",
      " [0.74901961 0.7372549  0.71764706]\n",
      " [0.70980392 0.69411765 0.69019608]\n",
      " [0.74509804 0.72156863 0.69803922]\n",
      " [0.63137255 0.61568627 0.58431373]\n",
      " [0.64705882 0.61568627 0.58823529]\n",
      " [0.73333333 0.70588235 0.67843137]\n",
      " [0.67058824 0.64705882 0.61960784]\n",
      " [0.76078431 0.7254902  0.70980392]\n",
      " [0.7372549  0.70980392 0.67843137]\n",
      " [0.68235294 0.6627451  0.60784314]\n",
      " [0.65882353 0.63529412 0.60784314]\n",
      " [0.72156863 0.69411765 0.67843137]\n",
      " [0.62352941 0.60784314 0.56862745]\n",
      " [0.7372549  0.71372549 0.69411765]\n",
      " [0.74901961 0.72156863 0.68627451]\n",
      " [0.15686275 0.23137255 0.31764706]\n",
      " [0.24705882 0.34509804 0.44705882]\n",
      " [0.25882353 0.3372549  0.46666667]\n",
      " [0.27058824 0.36470588 0.4745098 ]\n",
      " [0.30196078 0.39215686 0.47843137]\n",
      " [0.71764706 0.68627451 0.65882353]\n",
      " [0.72156863 0.68627451 0.67058824]\n",
      " [0.71764706 0.68235294 0.64705882]\n",
      " [0.78039216 0.74901961 0.7372549 ]\n",
      " [0.70588235 0.68235294 0.6627451 ]\n",
      " [0.77254902 0.7372549  0.7254902 ]\n",
      " [0.70588235 0.65882353 0.61960784]\n",
      " [0.69411765 0.67843137 0.65882353]\n",
      " [0.70588235 0.68235294 0.6627451 ]\n",
      " [0.78039216 0.74901961 0.74901961]\n",
      " [0.80392157 0.82352941 0.82745098]\n",
      " [0.84313725 0.84705882 0.85490196]\n",
      " [0.68235294 0.68235294 0.68235294]\n",
      " [0.81568627 0.78039216 0.76470588]\n",
      " [0.80392157 0.76862745 0.75686275]\n",
      " [0.74117647 0.68235294 0.64705882]\n",
      " [0.76078431 0.71372549 0.69803922]\n",
      " [0.83137255 0.77647059 0.75294118]\n",
      " [0.83137255 0.76862745 0.74117647]\n",
      " [0.77647059 0.72156863 0.69803922]\n",
      " [0.75686275 0.70980392 0.67058824]\n",
      " [0.8        0.75686275 0.7254902 ]\n",
      " [0.77647059 0.71764706 0.70980392]\n",
      " [0.80784314 0.76470588 0.74901961]\n",
      " [0.7372549  0.6745098  0.61176471]\n",
      " [0.70588235 0.65882353 0.61176471]\n",
      " [0.71372549 0.65490196 0.59607843]\n",
      " [0.76078431 0.72156863 0.67843137]\n",
      " [0.77254902 0.73333333 0.69411765]\n",
      " [0.68627451 0.63137255 0.56862745]\n",
      " [0.76078431 0.70980392 0.67843137]\n",
      " [0.77647059 0.71372549 0.67843137]\n",
      " [0.69019608 0.64313725 0.57647059]\n",
      " [0.72941176 0.6745098  0.61960784]\n",
      " [0.67058824 0.6        0.53333333]\n",
      " [0.6745098  0.61960784 0.54901961]] 0\n"
     ]
    }
   ],
   "source": [
    "print(X[0][0], y[0])"
   ]
  },
  {
   "cell_type": "code",
   "execution_count": 5,
   "metadata": {},
   "outputs": [
    {
     "data": {
      "text/plain": [
       "1949"
      ]
     },
     "execution_count": 5,
     "metadata": {},
     "output_type": "execute_result"
    }
   ],
   "source": [
    "len(X)"
   ]
  },
  {
   "cell_type": "code",
   "execution_count": 6,
   "metadata": {},
   "outputs": [
    {
     "name": "stdout",
     "output_type": "stream",
     "text": [
      "Train on 1559 samples, validate on 390 samples\n",
      "Epoch 1/8\n",
      "1559/1559 [==============================] - 12s 8ms/sample - loss: 0.3741 - accuracy: 0.8371 - val_loss: 0.1983 - val_accuracy: 0.9154\n",
      "Epoch 2/8\n",
      "1559/1559 [==============================] - 11s 7ms/sample - loss: 0.2063 - accuracy: 0.9173 - val_loss: 0.1770 - val_accuracy: 0.9333\n",
      "Epoch 3/8\n",
      "1559/1559 [==============================] - 11s 7ms/sample - loss: 0.1809 - accuracy: 0.9243 - val_loss: 0.1458 - val_accuracy: 0.9513\n",
      "Epoch 4/8\n",
      "1559/1559 [==============================] - 11s 7ms/sample - loss: 0.1130 - accuracy: 0.9622 - val_loss: 0.2806 - val_accuracy: 0.9000\n",
      "Epoch 5/8\n",
      "1559/1559 [==============================] - 11s 7ms/sample - loss: 0.0820 - accuracy: 0.9679 - val_loss: 0.0802 - val_accuracy: 0.9615\n",
      "Epoch 6/8\n",
      "1559/1559 [==============================] - 11s 7ms/sample - loss: 0.0874 - accuracy: 0.9673 - val_loss: 0.1060 - val_accuracy: 0.9462\n",
      "Epoch 7/8\n",
      "1559/1559 [==============================] - 11s 7ms/sample - loss: 0.0852 - accuracy: 0.9673 - val_loss: 0.1108 - val_accuracy: 0.9692\n",
      "Epoch 8/8\n",
      "1559/1559 [==============================] - 11s 7ms/sample - loss: 0.0217 - accuracy: 0.9923 - val_loss: 0.0531 - val_accuracy: 0.9795\n"
     ]
    },
    {
     "data": {
      "text/plain": [
       "<tensorflow.python.keras.callbacks.History at 0x1f0eddb4d48>"
      ]
     },
     "execution_count": 6,
     "metadata": {},
     "output_type": "execute_result"
    }
   ],
   "source": [
    "#y = np.array(y)\n",
    "model.fit(X, y, batch_size = 16, validation_split = 0.2,   epochs = 8    )"
   ]
  },
  {
   "cell_type": "code",
   "execution_count": 7,
   "metadata": {},
   "outputs": [
    {
     "name": "stdout",
     "output_type": "stream",
     "text": [
      "WARNING:tensorflow:From c:\\users\\prasu\\desktop\\repositories\\sentdex_keras\\sent_keras\\lib\\site-packages\\tensorflow_core\\python\\ops\\resource_variable_ops.py:1786: calling BaseResourceVariable.__init__ (from tensorflow.python.ops.resource_variable_ops) with constraint is deprecated and will be removed in a future version.\n",
      "Instructions for updating:\n",
      "If using Keras pass *_constraint arguments to layers.\n",
      "INFO:tensorflow:Assets written to: RGB-NSFWvsCOM.model\\assets\n"
     ]
    }
   ],
   "source": [
    "model.save('RGB-NSFWvsCOM.model')"
   ]
  },
  {
   "cell_type": "code",
   "execution_count": null,
   "metadata": {},
   "outputs": [],
   "source": []
  }
 ],
 "metadata": {
  "kernelspec": {
   "display_name": "Python 3",
   "language": "python",
   "name": "python3"
  },
  "language_info": {
   "codemirror_mode": {
    "name": "ipython",
    "version": 3
   },
   "file_extension": ".py",
   "mimetype": "text/x-python",
   "name": "python",
   "nbconvert_exporter": "python",
   "pygments_lexer": "ipython3",
   "version": "3.7.4"
  }
 },
 "nbformat": 4,
 "nbformat_minor": 4
}
